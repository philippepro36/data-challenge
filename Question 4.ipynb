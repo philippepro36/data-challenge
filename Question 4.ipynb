{
 "cells": [
  {
   "cell_type": "code",
   "execution_count": 78,
   "id": "8ed893d6",
   "metadata": {},
   "outputs": [],
   "source": [
    "import pandas as pd        "
   ]
  },
  {
   "cell_type": "code",
   "execution_count": 79,
   "id": "25b9fcd1",
   "metadata": {},
   "outputs": [],
   "source": [
    "Azuki = pd.read_csv(\"Azuki_3.csv\", low_memory=False)"
   ]
  },
  {
   "cell_type": "code",
   "execution_count": 80,
   "id": "4c1fb864",
   "metadata": {},
   "outputs": [],
   "source": [
    "Azuki_traits =  Azuki[[\"Background\", \"Clothing\", \"Ear\", \"Eyes\", \"Face\", \"Hair\", \"Headgear\", \"Mouth\", \"Neck\", \"Offhand\", \"Special\", \"Type\"]]"
   ]
  },
  {
   "cell_type": "code",
   "execution_count": 81,
   "id": "f169f48f",
   "metadata": {},
   "outputs": [
    {
     "data": {
      "text/html": [
       "<div>\n",
       "<style scoped>\n",
       "    .dataframe tbody tr th:only-of-type {\n",
       "        vertical-align: middle;\n",
       "    }\n",
       "\n",
       "    .dataframe tbody tr th {\n",
       "        vertical-align: top;\n",
       "    }\n",
       "\n",
       "    .dataframe thead th {\n",
       "        text-align: right;\n",
       "    }\n",
       "</style>\n",
       "<table border=\"1\" class=\"dataframe\">\n",
       "  <thead>\n",
       "    <tr style=\"text-align: right;\">\n",
       "      <th></th>\n",
       "      <th>Background</th>\n",
       "      <th>Clothing</th>\n",
       "      <th>Ear</th>\n",
       "      <th>Eyes</th>\n",
       "      <th>Face</th>\n",
       "      <th>Hair</th>\n",
       "      <th>Headgear</th>\n",
       "      <th>Mouth</th>\n",
       "      <th>Neck</th>\n",
       "      <th>Offhand</th>\n",
       "      <th>Special</th>\n",
       "      <th>Type</th>\n",
       "    </tr>\n",
       "  </thead>\n",
       "  <tbody>\n",
       "    <tr>\n",
       "      <th>0</th>\n",
       "      <td>Off White C</td>\n",
       "      <td>Suikan</td>\n",
       "      <td>NaN</td>\n",
       "      <td>Pensive</td>\n",
       "      <td>NaN</td>\n",
       "      <td>Indigo Fluffy</td>\n",
       "      <td>NaN</td>\n",
       "      <td>Chuckle</td>\n",
       "      <td>NaN</td>\n",
       "      <td>NaN</td>\n",
       "      <td>NaN</td>\n",
       "      <td>Human</td>\n",
       "    </tr>\n",
       "    <tr>\n",
       "      <th>1</th>\n",
       "      <td>Off White A</td>\n",
       "      <td>Blue Kimono with Bow</td>\n",
       "      <td>NaN</td>\n",
       "      <td>Daydreaming</td>\n",
       "      <td>NaN</td>\n",
       "      <td>Maroon Bun</td>\n",
       "      <td>NaN</td>\n",
       "      <td>Closed</td>\n",
       "      <td>NaN</td>\n",
       "      <td>Fishing Rod</td>\n",
       "      <td>NaN</td>\n",
       "      <td>Human</td>\n",
       "    </tr>\n",
       "    <tr>\n",
       "      <th>2</th>\n",
       "      <td>Off White A</td>\n",
       "      <td>Red Panda Hoodie</td>\n",
       "      <td>NaN</td>\n",
       "      <td>Closed</td>\n",
       "      <td>Eye Patch</td>\n",
       "      <td>Black Bangs</td>\n",
       "      <td>Sandogasa</td>\n",
       "      <td>Relaxed</td>\n",
       "      <td>Towel</td>\n",
       "      <td>Fan</td>\n",
       "      <td>NaN</td>\n",
       "      <td>Human</td>\n",
       "    </tr>\n",
       "    <tr>\n",
       "      <th>3</th>\n",
       "      <td>Off White D</td>\n",
       "      <td>Azuki Tech Jacket</td>\n",
       "      <td>NaN</td>\n",
       "      <td>Bored</td>\n",
       "      <td>Bandaid</td>\n",
       "      <td>Blonde Messy</td>\n",
       "      <td>NaN</td>\n",
       "      <td>Meh</td>\n",
       "      <td>NaN</td>\n",
       "      <td>Banner</td>\n",
       "      <td>NaN</td>\n",
       "      <td>Human</td>\n",
       "    </tr>\n",
       "    <tr>\n",
       "      <th>4</th>\n",
       "      <td>Off White B</td>\n",
       "      <td>Hoodie with Bag</td>\n",
       "      <td>NaN</td>\n",
       "      <td>White</td>\n",
       "      <td>NaN</td>\n",
       "      <td>Brown Ponytail</td>\n",
       "      <td>NaN</td>\n",
       "      <td>Relaxed</td>\n",
       "      <td>NaN</td>\n",
       "      <td>Banner</td>\n",
       "      <td>NaN</td>\n",
       "      <td>Human</td>\n",
       "    </tr>\n",
       "    <tr>\n",
       "      <th>...</th>\n",
       "      <td>...</td>\n",
       "      <td>...</td>\n",
       "      <td>...</td>\n",
       "      <td>...</td>\n",
       "      <td>...</td>\n",
       "      <td>...</td>\n",
       "      <td>...</td>\n",
       "      <td>...</td>\n",
       "      <td>...</td>\n",
       "      <td>...</td>\n",
       "      <td>...</td>\n",
       "      <td>...</td>\n",
       "    </tr>\n",
       "    <tr>\n",
       "      <th>45729</th>\n",
       "      <td>Off White D</td>\n",
       "      <td>Plated Samurai Armor</td>\n",
       "      <td>NaN</td>\n",
       "      <td>Ruby</td>\n",
       "      <td>NaN</td>\n",
       "      <td>Black Teal Bangs</td>\n",
       "      <td>NaN</td>\n",
       "      <td>Scroll</td>\n",
       "      <td>NaN</td>\n",
       "      <td>NaN</td>\n",
       "      <td>NaN</td>\n",
       "      <td>Human</td>\n",
       "    </tr>\n",
       "    <tr>\n",
       "      <th>45730</th>\n",
       "      <td>Off White A</td>\n",
       "      <td>White T-Shirt</td>\n",
       "      <td>NaN</td>\n",
       "      <td>Closed</td>\n",
       "      <td>Bandaid</td>\n",
       "      <td>Brown Blonde Long</td>\n",
       "      <td>NaN</td>\n",
       "      <td>Smirk</td>\n",
       "      <td>NaN</td>\n",
       "      <td>Katana</td>\n",
       "      <td>NaN</td>\n",
       "      <td>Human</td>\n",
       "    </tr>\n",
       "    <tr>\n",
       "      <th>45731</th>\n",
       "      <td>Red</td>\n",
       "      <td>Red Ninja Top</td>\n",
       "      <td>NaN</td>\n",
       "      <td>Joyful</td>\n",
       "      <td>NaN</td>\n",
       "      <td>Blonde Flowy</td>\n",
       "      <td>NaN</td>\n",
       "      <td>Laughing</td>\n",
       "      <td>NaN</td>\n",
       "      <td>Shinai</td>\n",
       "      <td>NaN</td>\n",
       "      <td>Human</td>\n",
       "    </tr>\n",
       "    <tr>\n",
       "      <th>45732</th>\n",
       "      <td>Red</td>\n",
       "      <td>Frog Kimono</td>\n",
       "      <td>NaN</td>\n",
       "      <td>Closed</td>\n",
       "      <td>Eye Patch</td>\n",
       "      <td>Dreadlocks</td>\n",
       "      <td>NaN</td>\n",
       "      <td>Gaiter</td>\n",
       "      <td>NaN</td>\n",
       "      <td>Fan</td>\n",
       "      <td>NaN</td>\n",
       "      <td>Human</td>\n",
       "    </tr>\n",
       "    <tr>\n",
       "      <th>45733</th>\n",
       "      <td>Red</td>\n",
       "      <td>Kung Fu Shirt</td>\n",
       "      <td>NaN</td>\n",
       "      <td>Focused</td>\n",
       "      <td>NaN</td>\n",
       "      <td>Silver Long</td>\n",
       "      <td>Cat Headband</td>\n",
       "      <td>Pout</td>\n",
       "      <td>NaN</td>\n",
       "      <td>NaN</td>\n",
       "      <td>NaN</td>\n",
       "      <td>Human</td>\n",
       "    </tr>\n",
       "  </tbody>\n",
       "</table>\n",
       "<p>45734 rows × 12 columns</p>\n",
       "</div>"
      ],
      "text/plain": [
       "        Background              Clothing  Ear         Eyes       Face  \\\n",
       "0      Off White C                Suikan  NaN      Pensive        NaN   \n",
       "1      Off White A  Blue Kimono with Bow  NaN  Daydreaming        NaN   \n",
       "2      Off White A      Red Panda Hoodie  NaN       Closed  Eye Patch   \n",
       "3      Off White D     Azuki Tech Jacket  NaN        Bored    Bandaid   \n",
       "4      Off White B       Hoodie with Bag  NaN        White        NaN   \n",
       "...            ...                   ...  ...          ...        ...   \n",
       "45729  Off White D  Plated Samurai Armor  NaN         Ruby        NaN   \n",
       "45730  Off White A         White T-Shirt  NaN       Closed    Bandaid   \n",
       "45731          Red         Red Ninja Top  NaN       Joyful        NaN   \n",
       "45732          Red           Frog Kimono  NaN       Closed  Eye Patch   \n",
       "45733          Red         Kung Fu Shirt  NaN      Focused        NaN   \n",
       "\n",
       "                    Hair      Headgear     Mouth   Neck      Offhand Special  \\\n",
       "0          Indigo Fluffy           NaN   Chuckle    NaN          NaN     NaN   \n",
       "1             Maroon Bun           NaN    Closed    NaN  Fishing Rod     NaN   \n",
       "2            Black Bangs     Sandogasa   Relaxed  Towel          Fan     NaN   \n",
       "3           Blonde Messy           NaN       Meh    NaN       Banner     NaN   \n",
       "4         Brown Ponytail           NaN   Relaxed    NaN       Banner     NaN   \n",
       "...                  ...           ...       ...    ...          ...     ...   \n",
       "45729   Black Teal Bangs           NaN    Scroll    NaN          NaN     NaN   \n",
       "45730  Brown Blonde Long           NaN     Smirk    NaN       Katana     NaN   \n",
       "45731       Blonde Flowy           NaN  Laughing    NaN       Shinai     NaN   \n",
       "45732         Dreadlocks           NaN    Gaiter    NaN          Fan     NaN   \n",
       "45733        Silver Long  Cat Headband      Pout    NaN          NaN     NaN   \n",
       "\n",
       "        Type  \n",
       "0      Human  \n",
       "1      Human  \n",
       "2      Human  \n",
       "3      Human  \n",
       "4      Human  \n",
       "...      ...  \n",
       "45729  Human  \n",
       "45730  Human  \n",
       "45731  Human  \n",
       "45732  Human  \n",
       "45733  Human  \n",
       "\n",
       "[45734 rows x 12 columns]"
      ]
     },
     "execution_count": 81,
     "metadata": {},
     "output_type": "execute_result"
    }
   ],
   "source": [
    "Azuki_traits"
   ]
  },
  {
   "cell_type": "code",
   "execution_count": 82,
   "id": "8b19dc23",
   "metadata": {},
   "outputs": [],
   "source": [
    "Azuki_Background = Azuki_traits[[\"Background\"]]\n",
    "Azuki_Clothing = Azuki_traits[[\"Clothing\"]]\n",
    "Azuki_Ear = Azuki_traits[[\"Ear\"]]\n",
    "Azuki_Eyes = Azuki_traits[[\"Eyes\"]]\n",
    "Azuki_Face = Azuki_traits[[\"Face\"]]\n",
    "Azuki_Hair = Azuki_traits[[\"Hair\"]]\n",
    "Azuki_Headgear = Azuki_traits[[\"Headgear\"]]\n",
    "Azuki_Mouth = Azuki_traits[[\"Mouth\"]]\n",
    "Azuki_Neck = Azuki_traits[[\"Neck\"]]\n",
    "Azuki_Offhand = Azuki_traits[[\"Offhand\"]] \n",
    "Azuki_Special = Azuki_traits[[\"Special\"]]\n",
    "Azuki_Type = Azuki_traits[[\"Type\"]]"
   ]
  },
  {
   "cell_type": "code",
   "execution_count": 83,
   "id": "ded9debe",
   "metadata": {},
   "outputs": [],
   "source": [
    "Azuki_Background_count = Azuki_Background['Background'].value_counts()\n",
    "Azuki_Clothing_count = Azuki_Clothing['Clothing'].value_counts()\n",
    "Azuki_Ear_count = Azuki_Ear['Ear'].value_counts()\n",
    "Azuki_Eyes_count = Azuki_Eyes['Eyes'].value_counts()\n",
    "Azuki_Face_count = Azuki_Face['Face'].value_counts()\n",
    "Azuki_Hair_count = Azuki_Hair['Hair'].value_counts()\n",
    "Azuki_Headgear_count = Azuki_Headgear['Headgear'].value_counts()\n",
    "Azuki_Mouth_count = Azuki_Mouth['Mouth'].value_counts()\n",
    "Azuki_Neck_count = Azuki_Neck['Neck'].value_counts()\n",
    "Azuki_Offhand_count = Azuki_Offhand['Offhand'].value_counts()\n",
    "Azuki_Special_count = Azuki_Special['Special'].value_counts()\n",
    "Azuki_Type_count = Azuki_Type['Type'].value_counts()\n",
    "\n",
    "Azuki_Background_count.index = 'Background ' + Azuki_Background_count.index\n",
    "Azuki_Clothing_count.index = 'Clothing ' + Azuki_Clothing_count.index\n",
    "Azuki_Ear_count.index = 'Ear ' + Azuki_Ear_count.index\n",
    "Azuki_Eyes_count.index = 'Eyes ' + Azuki_Eyes_count.index\n",
    "Azuki_Face_count.index = 'Face ' + Azuki_Face_count.index\n",
    "Azuki_Hair_count.index = 'Hair ' + Azuki_Hair_count.index\n",
    "Azuki_Headgear_count.index = 'Headgear ' + Azuki_Headgear_count.index\n",
    "Azuki_Mouth_count.index = 'Mouth ' + Azuki_Mouth_count.index\n",
    "Azuki_Neck_count.index = 'Neck ' + Azuki_Neck_count.index\n",
    "Azuki_Offhand_count.index = 'Offhand ' + Azuki_Offhand_count.index \n",
    "Azuki_Special_count.index = 'Special ' + Azuki_Special_count.index\n",
    "Azuki_Type_count.index = 'Type ' + Azuki_Type_count.index"
   ]
  },
  {
   "cell_type": "code",
   "execution_count": 84,
   "id": "f0218eb7",
   "metadata": {},
   "outputs": [
    {
     "data": {
      "text/plain": [
       "Background Off White A    9176\n",
       "Background Off White C    9154\n",
       "Background Off White D    8988\n",
       "Background Off White B    8720\n",
       "Background Red            4183\n",
       "Background Cool Gray      1902\n",
       "Background Dark Blue      1739\n",
       "Background Dark Purple    1713\n",
       "Name: Background, dtype: int64"
      ]
     },
     "execution_count": 84,
     "metadata": {},
     "output_type": "execute_result"
    }
   ],
   "source": [
    "Azuki_Background_count"
   ]
  },
  {
   "cell_type": "code",
   "execution_count": 85,
   "id": "41a0b0dd",
   "metadata": {},
   "outputs": [],
   "source": [
    "Azuki_count = pd.concat([Azuki_Background_count, Azuki_Clothing_count, Azuki_Ear_count, Azuki_Eyes_count, Azuki_Face_count, Azuki_Hair_count, Azuki_Headgear_count, Azuki_Mouth_count, Azuki_Neck_count, Azuki_Offhand_count, Azuki_Special_count, Azuki_Type_count], axis=0).to_frame()"
   ]
  },
  {
   "cell_type": "code",
   "execution_count": 86,
   "id": "8659b457",
   "metadata": {},
   "outputs": [
    {
     "data": {
      "text/html": [
       "<div>\n",
       "<style scoped>\n",
       "    .dataframe tbody tr th:only-of-type {\n",
       "        vertical-align: middle;\n",
       "    }\n",
       "\n",
       "    .dataframe tbody tr th {\n",
       "        vertical-align: top;\n",
       "    }\n",
       "\n",
       "    .dataframe thead th {\n",
       "        text-align: right;\n",
       "    }\n",
       "</style>\n",
       "<table border=\"1\" class=\"dataframe\">\n",
       "  <thead>\n",
       "    <tr style=\"text-align: right;\">\n",
       "      <th></th>\n",
       "      <th>0</th>\n",
       "    </tr>\n",
       "  </thead>\n",
       "  <tbody>\n",
       "    <tr>\n",
       "      <th>Background Off White A</th>\n",
       "      <td>9176</td>\n",
       "    </tr>\n",
       "    <tr>\n",
       "      <th>Background Off White C</th>\n",
       "      <td>9154</td>\n",
       "    </tr>\n",
       "    <tr>\n",
       "      <th>Background Off White D</th>\n",
       "      <td>8988</td>\n",
       "    </tr>\n",
       "    <tr>\n",
       "      <th>Background Off White B</th>\n",
       "      <td>8720</td>\n",
       "    </tr>\n",
       "    <tr>\n",
       "      <th>Background Red</th>\n",
       "      <td>4183</td>\n",
       "    </tr>\n",
       "    <tr>\n",
       "      <th>...</th>\n",
       "      <td>...</td>\n",
       "    </tr>\n",
       "    <tr>\n",
       "      <th>Special Lightning</th>\n",
       "      <td>111</td>\n",
       "    </tr>\n",
       "    <tr>\n",
       "      <th>Type Human</th>\n",
       "      <td>42621</td>\n",
       "    </tr>\n",
       "    <tr>\n",
       "      <th>Type Red</th>\n",
       "      <td>1494</td>\n",
       "    </tr>\n",
       "    <tr>\n",
       "      <th>Type Blue</th>\n",
       "      <td>1376</td>\n",
       "    </tr>\n",
       "    <tr>\n",
       "      <th>Type Spirit</th>\n",
       "      <td>243</td>\n",
       "    </tr>\n",
       "  </tbody>\n",
       "</table>\n",
       "<p>454 rows × 1 columns</p>\n",
       "</div>"
      ],
      "text/plain": [
       "                            0\n",
       "Background Off White A   9176\n",
       "Background Off White C   9154\n",
       "Background Off White D   8988\n",
       "Background Off White B   8720\n",
       "Background Red           4183\n",
       "...                       ...\n",
       "Special Lightning         111\n",
       "Type Human              42621\n",
       "Type Red                 1494\n",
       "Type Blue                1376\n",
       "Type Spirit               243\n",
       "\n",
       "[454 rows x 1 columns]"
      ]
     },
     "execution_count": 86,
     "metadata": {},
     "output_type": "execute_result"
    }
   ],
   "source": [
    "Azuki_count"
   ]
  },
  {
   "cell_type": "code",
   "execution_count": 87,
   "id": "b170249d",
   "metadata": {},
   "outputs": [],
   "source": [
    "Azuki_unique = Azuki.drop_duplicates(subset='token_id', keep='first')"
   ]
  },
  {
   "cell_type": "code",
   "execution_count": 88,
   "id": "96bea4c9",
   "metadata": {},
   "outputs": [],
   "source": [
    "Azuki_unique_Background_count = Azuki_unique['Background'].value_counts()\n",
    "Azuki_unique_Clothing_count = Azuki_unique['Clothing'].value_counts()\n",
    "Azuki_unique_Ear_count = Azuki_unique['Ear'].value_counts()\n",
    "Azuki_unique_Eyes_count = Azuki_unique['Eyes'].value_counts()\n",
    "Azuki_unique_Face_count = Azuki_unique['Face'].value_counts()\n",
    "Azuki_unique_Hair_count = Azuki_unique['Hair'].value_counts()\n",
    "Azuki_unique_Headgear_count = Azuki_unique['Headgear'].value_counts()\n",
    "Azuki_unique_Mouth_count = Azuki_unique['Mouth'].value_counts()\n",
    "Azuki_unique_Neck_count = Azuki_unique['Neck'].value_counts()\n",
    "Azuki_unique_Offhand_count = Azuki_unique['Offhand'].value_counts()\n",
    "Azuki_unique_Special_count = Azuki_unique['Special'].value_counts()\n",
    "Azuki_unique_Type_count = Azuki_unique['Type'].value_counts()\n",
    "\n",
    "Azuki_unique_Background_count.index = 'Background ' + Azuki_unique_Background_count.index\n",
    "Azuki_unique_Clothing_count.index = 'Clothing ' + Azuki_unique_Clothing_count.index\n",
    "Azuki_unique_Ear_count.index = 'Ear ' + Azuki_unique_Ear_count.index\n",
    "Azuki_unique_Eyes_count.index = 'Eyes ' + Azuki_unique_Eyes_count.index\n",
    "Azuki_unique_Face_count.index = 'Face ' + Azuki_unique_Face_count.index\n",
    "Azuki_unique_Hair_count.index = 'Hair ' + Azuki_unique_Hair_count.index\n",
    "Azuki_unique_Headgear_count.index = 'Headgear ' + Azuki_unique_Headgear_count.index\n",
    "Azuki_unique_Mouth_count.index = 'Mouth ' + Azuki_unique_Mouth_count.index\n",
    "Azuki_unique_Neck_count.index = 'Neck ' + Azuki_unique_Neck_count.index\n",
    "Azuki_unique_Offhand_count.index = 'Offhand ' + Azuki_unique_Offhand_count.index \n",
    "Azuki_unique_Special_count.index = 'Special ' + Azuki_unique_Special_count.index\n",
    "Azuki_unique_Type_count.index = 'Type ' + Azuki_unique_Type_count.index"
   ]
  },
  {
   "cell_type": "code",
   "execution_count": 89,
   "id": "e773f617",
   "metadata": {},
   "outputs": [],
   "source": [
    "Azuki_unique_count = pd.concat([Azuki_unique_Background_count,\n",
    "Azuki_unique_Clothing_count,\n",
    "Azuki_unique_Ear_count,\n",
    "Azuki_unique_Eyes_count,\n",
    "Azuki_unique_Face_count,\n",
    "Azuki_unique_Hair_count,\n",
    "Azuki_unique_Headgear_count,\n",
    "Azuki_unique_Mouth_count,\n",
    "Azuki_unique_Neck_count,\n",
    "Azuki_unique_Offhand_count,\n",
    "Azuki_unique_Special_count,\n",
    "Azuki_unique_Type_count], axis=0).to_frame()"
   ]
  },
  {
   "cell_type": "code",
   "execution_count": 90,
   "id": "682ec05e",
   "metadata": {},
   "outputs": [
    {
     "data": {
      "text/html": [
       "<div>\n",
       "<style scoped>\n",
       "    .dataframe tbody tr th:only-of-type {\n",
       "        vertical-align: middle;\n",
       "    }\n",
       "\n",
       "    .dataframe tbody tr th {\n",
       "        vertical-align: top;\n",
       "    }\n",
       "\n",
       "    .dataframe thead th {\n",
       "        text-align: right;\n",
       "    }\n",
       "</style>\n",
       "<table border=\"1\" class=\"dataframe\">\n",
       "  <thead>\n",
       "    <tr style=\"text-align: right;\">\n",
       "      <th></th>\n",
       "      <th>0</th>\n",
       "    </tr>\n",
       "  </thead>\n",
       "  <tbody>\n",
       "    <tr>\n",
       "      <th>Background Off White D</th>\n",
       "      <td>1808</td>\n",
       "    </tr>\n",
       "    <tr>\n",
       "      <th>Background Off White C</th>\n",
       "      <td>1804</td>\n",
       "    </tr>\n",
       "    <tr>\n",
       "      <th>Background Off White A</th>\n",
       "      <td>1655</td>\n",
       "    </tr>\n",
       "    <tr>\n",
       "      <th>Background Off White B</th>\n",
       "      <td>1597</td>\n",
       "    </tr>\n",
       "    <tr>\n",
       "      <th>Background Red</th>\n",
       "      <td>909</td>\n",
       "    </tr>\n",
       "    <tr>\n",
       "      <th>...</th>\n",
       "      <td>...</td>\n",
       "    </tr>\n",
       "    <tr>\n",
       "      <th>Special Lightning</th>\n",
       "      <td>42</td>\n",
       "    </tr>\n",
       "    <tr>\n",
       "      <th>Type Human</th>\n",
       "      <td>8273</td>\n",
       "    </tr>\n",
       "    <tr>\n",
       "      <th>Type Red</th>\n",
       "      <td>403</td>\n",
       "    </tr>\n",
       "    <tr>\n",
       "      <th>Type Blue</th>\n",
       "      <td>401</td>\n",
       "    </tr>\n",
       "    <tr>\n",
       "      <th>Type Spirit</th>\n",
       "      <td>89</td>\n",
       "    </tr>\n",
       "  </tbody>\n",
       "</table>\n",
       "<p>454 rows × 1 columns</p>\n",
       "</div>"
      ],
      "text/plain": [
       "                           0\n",
       "Background Off White D  1808\n",
       "Background Off White C  1804\n",
       "Background Off White A  1655\n",
       "Background Off White B  1597\n",
       "Background Red           909\n",
       "...                      ...\n",
       "Special Lightning         42\n",
       "Type Human              8273\n",
       "Type Red                 403\n",
       "Type Blue                401\n",
       "Type Spirit               89\n",
       "\n",
       "[454 rows x 1 columns]"
      ]
     },
     "execution_count": 90,
     "metadata": {},
     "output_type": "execute_result"
    }
   ],
   "source": [
    "Azuki_unique_count"
   ]
  },
  {
   "cell_type": "code",
   "execution_count": 91,
   "id": "52fe9edb",
   "metadata": {},
   "outputs": [],
   "source": [
    "BAYC = pd.read_csv(\"BAYC_3.csv\", low_memory=False)"
   ]
  },
  {
   "cell_type": "code",
   "execution_count": 92,
   "id": "cdb950fe",
   "metadata": {},
   "outputs": [],
   "source": [
    "BAYC_traits =  BAYC[[\"Background\", \"Clothes\", \"Earring\", \"Eyes\", \"Fur\", \"Hat\", \"Mouth\"]]"
   ]
  },
  {
   "cell_type": "code",
   "execution_count": 93,
   "id": "ee57e439",
   "metadata": {},
   "outputs": [],
   "source": [
    "BAYC_Background = BAYC[['Background']]\n",
    "BAYC_Clothes = BAYC[['Clothes']]\n",
    "BAYC_Earring = BAYC[['Earring']]\n",
    "BAYC_Eyes = BAYC[['Eyes']]\n",
    "BAYC_Fur = BAYC[['Fur']]\n",
    "BAYC_Hat = BAYC[['Hat']]\n",
    "BAYC_Mouth = BAYC[['Mouth']]"
   ]
  },
  {
   "cell_type": "code",
   "execution_count": 94,
   "id": "099bacf5",
   "metadata": {},
   "outputs": [],
   "source": [
    "BAYC_Background_count = BAYC_Background['Background'].value_counts()\n",
    "BAYC_Clothes_count = BAYC_Clothes['Clothes'].value_counts()\n",
    "BAYC_Earring_count = BAYC_Earring['Earring'].value_counts()\n",
    "BAYC_Eyes_count = BAYC_Eyes['Eyes'].value_counts()\n",
    "BAYC_Fur_count = BAYC_Fur['Fur'].value_counts()\n",
    "BAYC_Hat_count = BAYC_Hat['Hat'].value_counts()\n",
    "BAYC_Mouth_count = BAYC_Mouth['Mouth'].value_counts()\n",
    "\n",
    "BAYC_Background_count.index = 'Background ' + BAYC_Background_count.index \n",
    "BAYC_Clothes_count.index = 'Clothes ' + BAYC_Clothes_count.index\n",
    "BAYC_Earring_count.index = 'Earring ' + BAYC_Earring_count.index\n",
    "BAYC_Eyes_count.index = 'Eyes ' + BAYC_Eyes_count.index\n",
    "BAYC_Fur_count.index = 'Fur ' + BAYC_Fur_count.index\n",
    "BAYC_Hat_count.index = 'Hat ' + BAYC_Hat_count.index\n",
    "BAYC_Mouth_count.index = 'Mouth ' + BAYC_Mouth_count.index"
   ]
  },
  {
   "cell_type": "code",
   "execution_count": 95,
   "id": "d261eb1d",
   "metadata": {},
   "outputs": [],
   "source": [
    "BAYC_count = pd.concat([BAYC_Background_count, BAYC_Clothes_count, BAYC_Earring_count, BAYC_Eyes_count, BAYC_Fur_count, BAYC_Hat_count, BAYC_Mouth_count], axis=0).to_frame()"
   ]
  },
  {
   "cell_type": "code",
   "execution_count": 96,
   "id": "4ee30e89",
   "metadata": {},
   "outputs": [
    {
     "data": {
      "text/html": [
       "<div>\n",
       "<style scoped>\n",
       "    .dataframe tbody tr th:only-of-type {\n",
       "        vertical-align: middle;\n",
       "    }\n",
       "\n",
       "    .dataframe tbody tr th {\n",
       "        vertical-align: top;\n",
       "    }\n",
       "\n",
       "    .dataframe thead th {\n",
       "        text-align: right;\n",
       "    }\n",
       "</style>\n",
       "<table border=\"1\" class=\"dataframe\">\n",
       "  <thead>\n",
       "    <tr style=\"text-align: right;\">\n",
       "      <th></th>\n",
       "      <th>0</th>\n",
       "    </tr>\n",
       "  </thead>\n",
       "  <tbody>\n",
       "    <tr>\n",
       "      <th>Background Aquamarine</th>\n",
       "      <td>4330</td>\n",
       "    </tr>\n",
       "    <tr>\n",
       "      <th>Background Purple</th>\n",
       "      <td>4315</td>\n",
       "    </tr>\n",
       "    <tr>\n",
       "      <th>Background Yellow</th>\n",
       "      <td>4308</td>\n",
       "    </tr>\n",
       "    <tr>\n",
       "      <th>Background Army Green</th>\n",
       "      <td>4256</td>\n",
       "    </tr>\n",
       "    <tr>\n",
       "      <th>Background Orange</th>\n",
       "      <td>4215</td>\n",
       "    </tr>\n",
       "    <tr>\n",
       "      <th>...</th>\n",
       "      <td>...</td>\n",
       "    </tr>\n",
       "    <tr>\n",
       "      <th>Mouth Bored Unshaven Party horn</th>\n",
       "      <td>119</td>\n",
       "    </tr>\n",
       "    <tr>\n",
       "      <th>Mouth Bored Dagger</th>\n",
       "      <td>111</td>\n",
       "    </tr>\n",
       "    <tr>\n",
       "      <th>Mouth Bored Pizza</th>\n",
       "      <td>95</td>\n",
       "    </tr>\n",
       "    <tr>\n",
       "      <th>Mouth Bored Unshaven Dagger</th>\n",
       "      <td>41</td>\n",
       "    </tr>\n",
       "    <tr>\n",
       "      <th>Mouth Bored Unshaven Pizza</th>\n",
       "      <td>33</td>\n",
       "    </tr>\n",
       "  </tbody>\n",
       "</table>\n",
       "<p>168 rows × 1 columns</p>\n",
       "</div>"
      ],
      "text/plain": [
       "                                    0\n",
       "Background Aquamarine            4330\n",
       "Background Purple                4315\n",
       "Background Yellow                4308\n",
       "Background Army Green            4256\n",
       "Background Orange                4215\n",
       "...                               ...\n",
       "Mouth Bored Unshaven Party horn   119\n",
       "Mouth Bored Dagger                111\n",
       "Mouth Bored Pizza                  95\n",
       "Mouth Bored Unshaven Dagger        41\n",
       "Mouth Bored Unshaven Pizza         33\n",
       "\n",
       "[168 rows x 1 columns]"
      ]
     },
     "execution_count": 96,
     "metadata": {},
     "output_type": "execute_result"
    }
   ],
   "source": [
    "BAYC_count"
   ]
  },
  {
   "cell_type": "code",
   "execution_count": 97,
   "id": "c39a31ca",
   "metadata": {},
   "outputs": [],
   "source": [
    "BAYC_unique = BAYC.drop_duplicates(subset='token_id', keep='first')"
   ]
  },
  {
   "cell_type": "code",
   "execution_count": 98,
   "id": "687904d7",
   "metadata": {},
   "outputs": [],
   "source": [
    "BAYC_unique_Background_count = BAYC_unique['Background'].value_counts()\n",
    "BAYC_unique_Clothes_count = BAYC_unique['Clothes'].value_counts()\n",
    "BAYC_unique_Earring_count = BAYC_unique['Earring'].value_counts()\n",
    "BAYC_unique_Eyes_count = BAYC_unique['Eyes'].value_counts()\n",
    "BAYC_unique_Fur_count = BAYC_unique['Fur'].value_counts()\n",
    "BAYC_unique_Hat_count = BAYC_unique['Hat'].value_counts()\n",
    "BAYC_unique_Mouth_count = BAYC_unique['Mouth'].value_counts()\n",
    "\n",
    "BAYC_unique_Background_count.index = 'Background ' + BAYC_unique_Background_count.index \n",
    "BAYC_unique_Clothes_count.index = 'Clothes ' + BAYC_unique_Clothes_count.index\n",
    "BAYC_unique_Earring_count.index = 'Earring ' + BAYC_unique_Earring_count.index\n",
    "BAYC_unique_Eyes_count.index = 'Eyes ' + BAYC_unique_Eyes_count.index\n",
    "BAYC_unique_Fur_count.index = 'Fur ' + BAYC_unique_Fur_count.index\n",
    "BAYC_unique_Hat_count.index = 'Hat ' + BAYC_unique_Hat_count.index\n",
    "BAYC_unique_Mouth_count.index = 'Mouth ' + BAYC_unique_Mouth_count.index"
   ]
  },
  {
   "cell_type": "code",
   "execution_count": 99,
   "id": "a3a1df16",
   "metadata": {},
   "outputs": [],
   "source": [
    "BAYC_unique_count = pd.concat([BAYC_unique_Background_count,\n",
    "BAYC_unique_Clothes_count,\n",
    "BAYC_unique_Earring_count,\n",
    "BAYC_unique_Eyes_count,\n",
    "BAYC_unique_Fur_count,\n",
    "BAYC_unique_Hat_count,\n",
    "BAYC_unique_Mouth_count], axis=0).to_frame()"
   ]
  },
  {
   "cell_type": "code",
   "execution_count": 100,
   "id": "fd953423",
   "metadata": {},
   "outputs": [
    {
     "data": {
      "text/html": [
       "<div>\n",
       "<style scoped>\n",
       "    .dataframe tbody tr th:only-of-type {\n",
       "        vertical-align: middle;\n",
       "    }\n",
       "\n",
       "    .dataframe tbody tr th {\n",
       "        vertical-align: top;\n",
       "    }\n",
       "\n",
       "    .dataframe thead th {\n",
       "        text-align: right;\n",
       "    }\n",
       "</style>\n",
       "<table border=\"1\" class=\"dataframe\">\n",
       "  <thead>\n",
       "    <tr style=\"text-align: right;\">\n",
       "      <th></th>\n",
       "      <th>0</th>\n",
       "    </tr>\n",
       "  </thead>\n",
       "  <tbody>\n",
       "    <tr>\n",
       "      <th>Background Purple</th>\n",
       "      <td>1157</td>\n",
       "    </tr>\n",
       "    <tr>\n",
       "      <th>Background Orange</th>\n",
       "      <td>1141</td>\n",
       "    </tr>\n",
       "    <tr>\n",
       "      <th>Background Yellow</th>\n",
       "      <td>1137</td>\n",
       "    </tr>\n",
       "    <tr>\n",
       "      <th>Background Aquamarine</th>\n",
       "      <td>1122</td>\n",
       "    </tr>\n",
       "    <tr>\n",
       "      <th>Background New Punk Blue</th>\n",
       "      <td>1117</td>\n",
       "    </tr>\n",
       "    <tr>\n",
       "      <th>...</th>\n",
       "      <td>...</td>\n",
       "    </tr>\n",
       "    <tr>\n",
       "      <th>Mouth Bored Dagger</th>\n",
       "      <td>42</td>\n",
       "    </tr>\n",
       "    <tr>\n",
       "      <th>Mouth Bored Pizza</th>\n",
       "      <td>36</td>\n",
       "    </tr>\n",
       "    <tr>\n",
       "      <th>Mouth Bored Unshaven Party horn</th>\n",
       "      <td>36</td>\n",
       "    </tr>\n",
       "    <tr>\n",
       "      <th>Mouth Bored Unshaven Dagger</th>\n",
       "      <td>18</td>\n",
       "    </tr>\n",
       "    <tr>\n",
       "      <th>Mouth Bored Unshaven Pizza</th>\n",
       "      <td>18</td>\n",
       "    </tr>\n",
       "  </tbody>\n",
       "</table>\n",
       "<p>168 rows × 1 columns</p>\n",
       "</div>"
      ],
      "text/plain": [
       "                                    0\n",
       "Background Purple                1157\n",
       "Background Orange                1141\n",
       "Background Yellow                1137\n",
       "Background Aquamarine            1122\n",
       "Background New Punk Blue         1117\n",
       "...                               ...\n",
       "Mouth Bored Dagger                 42\n",
       "Mouth Bored Pizza                  36\n",
       "Mouth Bored Unshaven Party horn    36\n",
       "Mouth Bored Unshaven Dagger        18\n",
       "Mouth Bored Unshaven Pizza         18\n",
       "\n",
       "[168 rows x 1 columns]"
      ]
     },
     "execution_count": 100,
     "metadata": {},
     "output_type": "execute_result"
    }
   ],
   "source": [
    "BAYC_unique_count"
   ]
  },
  {
   "cell_type": "code",
   "execution_count": 101,
   "id": "70ff72f0",
   "metadata": {},
   "outputs": [],
   "source": [
    "MAYC = pd.read_csv(\"MAYC_3.csv\", low_memory=False)"
   ]
  },
  {
   "cell_type": "code",
   "execution_count": 102,
   "id": "86aff309",
   "metadata": {},
   "outputs": [],
   "source": [
    "MAYC_traits =  MAYC[[\"Background\", \"Clothes\", \"Earring\", \"Eyes\", \"Fur\", \"Hat\", \"Mouth\", \"Name\"]]"
   ]
  },
  {
   "cell_type": "code",
   "execution_count": 103,
   "id": "f7dabac2",
   "metadata": {},
   "outputs": [],
   "source": [
    "MAYC_Background = MAYC[['Background']]\n",
    "MAYC_Clothes = MAYC[['Clothes']]\n",
    "MAYC_Earring = MAYC[['Earring']]\n",
    "MAYC_Eyes = MAYC[['Eyes']]\n",
    "MAYC_Fur = MAYC[['Fur']]\n",
    "MAYC_Hat = MAYC[['Hat']]\n",
    "MAYC_Mouth = MAYC[['Mouth']]\n",
    "MAYC_Name = MAYC[['Name']]"
   ]
  },
  {
   "cell_type": "code",
   "execution_count": 104,
   "id": "1feef8c6",
   "metadata": {},
   "outputs": [],
   "source": [
    "MAYC_Background_count = MAYC_Background['Background'].value_counts()\n",
    "MAYC_Clothes_count = MAYC_Clothes['Clothes'].value_counts()\n",
    "MAYC_Earring_count = MAYC_Earring['Earring'].value_counts()\n",
    "MAYC_Eyes_count = MAYC_Eyes['Eyes'].value_counts()\n",
    "MAYC_Fur_count = MAYC_Fur['Fur'].value_counts()\n",
    "MAYC_Hat_count = MAYC_Hat['Hat'].value_counts()\n",
    "MAYC_Mouth_count = MAYC_Mouth['Mouth'].value_counts()\n",
    "MAYC_Name_count = MAYC_Name['Name'].value_counts()\n",
    "\n",
    "MAYC_Background_count.index = 'Background ' + MAYC_Background_count.index \n",
    "MAYC_Clothes_count.index = 'Clothes ' + MAYC_Clothes_count.index\n",
    "MAYC_Earring_count.index = 'Earring ' + MAYC_Earring_count.index\n",
    "MAYC_Eyes_count.index = 'Eyes ' + MAYC_Eyes_count.index\n",
    "MAYC_Fur_count.index = 'Fur ' + MAYC_Fur_count.index\n",
    "MAYC_Hat_count.index = 'Hat ' + MAYC_Hat_count.index\n",
    "MAYC_Mouth_count.index = 'Mouth ' + MAYC_Mouth_count.index\n",
    "MAYC_Name_count.index = 'Name ' + MAYC_Name_count.index"
   ]
  },
  {
   "cell_type": "code",
   "execution_count": 105,
   "id": "72df32c8",
   "metadata": {},
   "outputs": [],
   "source": [
    "MAYC_count = pd.concat([MAYC_Background_count, MAYC_Clothes_count, MAYC_Earring_count, MAYC_Eyes_count, MAYC_Fur_count, MAYC_Hat_count, MAYC_Mouth_count, MAYC_Name_count], axis=0).to_frame()"
   ]
  },
  {
   "cell_type": "code",
   "execution_count": 106,
   "id": "a367c866",
   "metadata": {},
   "outputs": [
    {
     "data": {
      "text/html": [
       "<div>\n",
       "<style scoped>\n",
       "    .dataframe tbody tr th:only-of-type {\n",
       "        vertical-align: middle;\n",
       "    }\n",
       "\n",
       "    .dataframe tbody tr th {\n",
       "        vertical-align: top;\n",
       "    }\n",
       "\n",
       "    .dataframe thead th {\n",
       "        text-align: right;\n",
       "    }\n",
       "</style>\n",
       "<table border=\"1\" class=\"dataframe\">\n",
       "  <thead>\n",
       "    <tr style=\"text-align: right;\">\n",
       "      <th></th>\n",
       "      <th>0</th>\n",
       "    </tr>\n",
       "  </thead>\n",
       "  <tbody>\n",
       "    <tr>\n",
       "      <th>Background M1 Yellow</th>\n",
       "      <td>6934</td>\n",
       "    </tr>\n",
       "    <tr>\n",
       "      <th>Background M1 Blue</th>\n",
       "      <td>6618</td>\n",
       "    </tr>\n",
       "    <tr>\n",
       "      <th>Background M1 Purple</th>\n",
       "      <td>6582</td>\n",
       "    </tr>\n",
       "    <tr>\n",
       "      <th>Background M1 Army Green</th>\n",
       "      <td>6525</td>\n",
       "    </tr>\n",
       "    <tr>\n",
       "      <th>Background M1 Gray</th>\n",
       "      <td>6431</td>\n",
       "    </tr>\n",
       "    <tr>\n",
       "      <th>...</th>\n",
       "      <td>...</td>\n",
       "    </tr>\n",
       "    <tr>\n",
       "      <th>Mouth M2 Bored Unshaven Pizza</th>\n",
       "      <td>18</td>\n",
       "    </tr>\n",
       "    <tr>\n",
       "      <th>Name Mega Jelly</th>\n",
       "      <td>1</td>\n",
       "    </tr>\n",
       "    <tr>\n",
       "      <th>Name Mega Demon</th>\n",
       "      <td>1</td>\n",
       "    </tr>\n",
       "    <tr>\n",
       "      <th>Name Mega Radioactive</th>\n",
       "      <td>1</td>\n",
       "    </tr>\n",
       "    <tr>\n",
       "      <th>Name Mega Swamp</th>\n",
       "      <td>1</td>\n",
       "    </tr>\n",
       "  </tbody>\n",
       "</table>\n",
       "<p>340 rows × 1 columns</p>\n",
       "</div>"
      ],
      "text/plain": [
       "                                  0\n",
       "Background M1 Yellow           6934\n",
       "Background M1 Blue             6618\n",
       "Background M1 Purple           6582\n",
       "Background M1 Army Green       6525\n",
       "Background M1 Gray             6431\n",
       "...                             ...\n",
       "Mouth M2 Bored Unshaven Pizza    18\n",
       "Name Mega Jelly                   1\n",
       "Name Mega Demon                   1\n",
       "Name Mega Radioactive             1\n",
       "Name Mega Swamp                   1\n",
       "\n",
       "[340 rows x 1 columns]"
      ]
     },
     "execution_count": 106,
     "metadata": {},
     "output_type": "execute_result"
    }
   ],
   "source": [
    "MAYC_count "
   ]
  },
  {
   "cell_type": "code",
   "execution_count": 107,
   "id": "de7bb83e",
   "metadata": {},
   "outputs": [],
   "source": [
    "MAYC_unique = MAYC.drop_duplicates(subset='token_id', keep='first')"
   ]
  },
  {
   "cell_type": "code",
   "execution_count": 108,
   "id": "a645680b",
   "metadata": {},
   "outputs": [],
   "source": [
    "MAYC_unique_Background_count = MAYC_unique['Background'].value_counts()\n",
    "MAYC_unique_Clothes_count = MAYC_unique['Clothes'].value_counts()\n",
    "MAYC_unique_Earring_count = MAYC_unique['Earring'].value_counts()\n",
    "MAYC_unique_Eyes_count = MAYC_unique['Eyes'].value_counts()\n",
    "MAYC_unique_Fur_count = MAYC_unique['Fur'].value_counts()\n",
    "MAYC_unique_Hat_count = MAYC_unique['Hat'].value_counts()\n",
    "MAYC_unique_Mouth_count = MAYC_unique['Mouth'].value_counts()\n",
    "MAYC_unique_Name_count = MAYC_unique['Name'].value_counts()\n",
    "\n",
    "MAYC_unique_Background_count.index = 'Background ' + MAYC_unique_Background_count.index \n",
    "MAYC_unique_Clothes_count.index = 'Clothes ' + MAYC_unique_Clothes_count.index\n",
    "MAYC_unique_Earring_count.index = 'Earring ' + MAYC_unique_Earring_count.index\n",
    "MAYC_unique_Eyes_count.index = 'Eyes ' + MAYC_unique_Eyes_count.index\n",
    "MAYC_unique_Fur_count.index = 'Fur ' + MAYC_unique_Fur_count.index\n",
    "MAYC_unique_Hat_count.index = 'Hat ' + MAYC_unique_Hat_count.index\n",
    "MAYC_unique_Mouth_count.index = 'Mouth ' + MAYC_unique_Mouth_count.index\n",
    "MAYC_unique_Name_count.index = 'Name ' + MAYC_unique_Name_count.index"
   ]
  },
  {
   "cell_type": "code",
   "execution_count": 109,
   "id": "b69df1d9",
   "metadata": {},
   "outputs": [],
   "source": [
    "MAYC_unique_count = pd.concat([MAYC_unique_Background_count,\n",
    "MAYC_unique_Clothes_count,\n",
    "MAYC_unique_Earring_count,\n",
    "MAYC_unique_Eyes_count,\n",
    "MAYC_unique_Fur_count,\n",
    "MAYC_unique_Hat_count,\n",
    "MAYC_unique_Mouth_count,\n",
    "MAYC_unique_Name_count], axis=0).to_frame()"
   ]
  },
  {
   "cell_type": "code",
   "execution_count": 110,
   "id": "9c551a0e",
   "metadata": {},
   "outputs": [
    {
     "data": {
      "text/html": [
       "<div>\n",
       "<style scoped>\n",
       "    .dataframe tbody tr th:only-of-type {\n",
       "        vertical-align: middle;\n",
       "    }\n",
       "\n",
       "    .dataframe tbody tr th {\n",
       "        vertical-align: top;\n",
       "    }\n",
       "\n",
       "    .dataframe thead th {\n",
       "        text-align: right;\n",
       "    }\n",
       "</style>\n",
       "<table border=\"1\" class=\"dataframe\">\n",
       "  <thead>\n",
       "    <tr style=\"text-align: right;\">\n",
       "      <th></th>\n",
       "      <th>0</th>\n",
       "    </tr>\n",
       "  </thead>\n",
       "  <tbody>\n",
       "    <tr>\n",
       "      <th>Background M1 Yellow</th>\n",
       "      <td>1439</td>\n",
       "    </tr>\n",
       "    <tr>\n",
       "      <th>Background M1 Purple</th>\n",
       "      <td>1404</td>\n",
       "    </tr>\n",
       "    <tr>\n",
       "      <th>Background M1 Aquamarine</th>\n",
       "      <td>1376</td>\n",
       "    </tr>\n",
       "    <tr>\n",
       "      <th>Background M1 Blue</th>\n",
       "      <td>1350</td>\n",
       "    </tr>\n",
       "    <tr>\n",
       "      <th>Background M1 Orange</th>\n",
       "      <td>1346</td>\n",
       "    </tr>\n",
       "    <tr>\n",
       "      <th>...</th>\n",
       "      <td>...</td>\n",
       "    </tr>\n",
       "    <tr>\n",
       "      <th>Mouth M2 Bored Unshaven Dagger</th>\n",
       "      <td>8</td>\n",
       "    </tr>\n",
       "    <tr>\n",
       "      <th>Name Mega Jelly</th>\n",
       "      <td>1</td>\n",
       "    </tr>\n",
       "    <tr>\n",
       "      <th>Name Mega Demon</th>\n",
       "      <td>1</td>\n",
       "    </tr>\n",
       "    <tr>\n",
       "      <th>Name Mega Radioactive</th>\n",
       "      <td>1</td>\n",
       "    </tr>\n",
       "    <tr>\n",
       "      <th>Name Mega Swamp</th>\n",
       "      <td>1</td>\n",
       "    </tr>\n",
       "  </tbody>\n",
       "</table>\n",
       "<p>340 rows × 1 columns</p>\n",
       "</div>"
      ],
      "text/plain": [
       "                                   0\n",
       "Background M1 Yellow            1439\n",
       "Background M1 Purple            1404\n",
       "Background M1 Aquamarine        1376\n",
       "Background M1 Blue              1350\n",
       "Background M1 Orange            1346\n",
       "...                              ...\n",
       "Mouth M2 Bored Unshaven Dagger     8\n",
       "Name Mega Jelly                    1\n",
       "Name Mega Demon                    1\n",
       "Name Mega Radioactive              1\n",
       "Name Mega Swamp                    1\n",
       "\n",
       "[340 rows x 1 columns]"
      ]
     },
     "execution_count": 110,
     "metadata": {},
     "output_type": "execute_result"
    }
   ],
   "source": [
    "MAYC_unique_count"
   ]
  },
  {
   "cell_type": "code",
   "execution_count": 111,
   "id": "09c96da2",
   "metadata": {},
   "outputs": [],
   "source": [
    "Moonbirds = pd.read_csv(\"Moonbirds_3.csv\", low_memory=False)"
   ]
  },
  {
   "cell_type": "code",
   "execution_count": 112,
   "id": "2a2d43a5",
   "metadata": {},
   "outputs": [],
   "source": [
    "Moonbirds_traits =  Moonbirds[[\"Background\", \"Beak\", \"Body\", \"Eyes\", \"Eyewear\", \"Feathers\", \"Headwear\", \"Outerwear\"]]"
   ]
  },
  {
   "cell_type": "code",
   "execution_count": 113,
   "id": "009d3743",
   "metadata": {},
   "outputs": [],
   "source": [
    "Moonbirds_Background = Moonbirds_traits[[\"Background\"]]\n",
    "Moonbirds_Beak = Moonbirds_traits[[\"Beak\"]]\n",
    "Moonbirds_Body = Moonbirds_traits[[\"Body\"]]\n",
    "Moonbirds_Eyes = Moonbirds_traits[['Eyes']]\n",
    "Moonbirds_Eyewear = Moonbirds_traits[['Eyewear']]\n",
    "Moonbirds_Feathers = Moonbirds_traits[[\"Feathers\"]]\n",
    "Moonbirds_Headwear = Moonbirds_traits[[\"Headwear\"]]\n",
    "Moonbirds_Outerwear = Moonbirds_traits[['Outerwear']]"
   ]
  },
  {
   "cell_type": "code",
   "execution_count": 114,
   "id": "e86fb253",
   "metadata": {},
   "outputs": [],
   "source": [
    "Moonbirds_Background_count = Moonbirds_Background[\"Background\"].value_counts()\n",
    "Moonbirds_Beak_count = Moonbirds_Beak[\"Beak\"].value_counts()\n",
    "Moonbirds_Body_count = Moonbirds_Body[\"Body\"].value_counts()\n",
    "Moonbirds_Eyes_count = Moonbirds_Eyes['Eyes'].value_counts()\n",
    "Moonbirds_Eyewear_count = Moonbirds_Eyewear['Eyewear'].value_counts()\n",
    "Moonbirds_Feathers_count = Moonbirds_Feathers[\"Feathers\"].value_counts()\n",
    "Moonbirds_Headwear_count = Moonbirds_Headwear[\"Headwear\"].value_counts()\n",
    "Moonbirds_Outerwear_count = Moonbirds_Outerwear['Outerwear'].value_counts()\n",
    "\n",
    "Moonbirds_Background_count.index = 'Background ' + Moonbirds_Background_count.index\n",
    "Moonbirds_Beak_count.index = 'Beak ' + Moonbirds_Beak_count.index\n",
    "Moonbirds_Body_count.index = 'Body ' + Moonbirds_Body_count.index\n",
    "Moonbirds_Eyes_count.index = 'Eyes ' + Moonbirds_Eyes_count.index\n",
    "Moonbirds_Eyewear_count.index = 'Eyewear ' + Moonbirds_Eyewear_count.index\n",
    "Moonbirds_Feathers_count.index = 'Feathers ' + Moonbirds_Feathers_count.index\n",
    "Moonbirds_Headwear_count.index = 'Headwear ' + Moonbirds_Headwear_count.index\n",
    "Moonbirds_Outerwear_count.index = 'Outerwear ' + Moonbirds_Outerwear_count.index"
   ]
  },
  {
   "cell_type": "code",
   "execution_count": 115,
   "id": "ddb029c1",
   "metadata": {},
   "outputs": [],
   "source": [
    "Moonbirds_count = pd.concat([Moonbirds_Background_count, Moonbirds_Beak_count, Moonbirds_Body_count, Moonbirds_Eyes_count, Moonbirds_Eyewear_count, Moonbirds_Feathers_count, Moonbirds_Headwear_count, Moonbirds_Outerwear_count], axis=0).to_frame()"
   ]
  },
  {
   "cell_type": "code",
   "execution_count": 116,
   "id": "13cb97c8",
   "metadata": {},
   "outputs": [
    {
     "data": {
      "text/html": [
       "<div>\n",
       "<style scoped>\n",
       "    .dataframe tbody tr th:only-of-type {\n",
       "        vertical-align: middle;\n",
       "    }\n",
       "\n",
       "    .dataframe tbody tr th {\n",
       "        vertical-align: top;\n",
       "    }\n",
       "\n",
       "    .dataframe thead th {\n",
       "        text-align: right;\n",
       "    }\n",
       "</style>\n",
       "<table border=\"1\" class=\"dataframe\">\n",
       "  <thead>\n",
       "    <tr style=\"text-align: right;\">\n",
       "      <th></th>\n",
       "      <th>0</th>\n",
       "    </tr>\n",
       "  </thead>\n",
       "  <tbody>\n",
       "    <tr>\n",
       "      <th>Background  Green</th>\n",
       "      <td>5677</td>\n",
       "    </tr>\n",
       "    <tr>\n",
       "      <th>Background  Yellow</th>\n",
       "      <td>5281</td>\n",
       "    </tr>\n",
       "    <tr>\n",
       "      <th>Background  Purple</th>\n",
       "      <td>4991</td>\n",
       "    </tr>\n",
       "    <tr>\n",
       "      <th>Background  Blue</th>\n",
       "      <td>4965</td>\n",
       "    </tr>\n",
       "    <tr>\n",
       "      <th>Background  Pink</th>\n",
       "      <td>4676</td>\n",
       "    </tr>\n",
       "    <tr>\n",
       "      <th>...</th>\n",
       "      <td>...</td>\n",
       "    </tr>\n",
       "    <tr>\n",
       "      <th>Outerwear  Jean Jacket</th>\n",
       "      <td>355</td>\n",
       "    </tr>\n",
       "    <tr>\n",
       "      <th>Outerwear  Hoodie</th>\n",
       "      <td>327</td>\n",
       "    </tr>\n",
       "    <tr>\n",
       "      <th>Outerwear  Diamond Necklace</th>\n",
       "      <td>266</td>\n",
       "    </tr>\n",
       "    <tr>\n",
       "      <th>Outerwear  Bomber Jacket</th>\n",
       "      <td>163</td>\n",
       "    </tr>\n",
       "    <tr>\n",
       "      <th>Outerwear  Heros Tunic</th>\n",
       "      <td>144</td>\n",
       "    </tr>\n",
       "  </tbody>\n",
       "</table>\n",
       "<p>116 rows × 1 columns</p>\n",
       "</div>"
      ],
      "text/plain": [
       "                                0\n",
       "Background  Green            5677\n",
       "Background  Yellow           5281\n",
       "Background  Purple           4991\n",
       "Background  Blue             4965\n",
       "Background  Pink             4676\n",
       "...                           ...\n",
       "Outerwear  Jean Jacket        355\n",
       "Outerwear  Hoodie             327\n",
       "Outerwear  Diamond Necklace   266\n",
       "Outerwear  Bomber Jacket      163\n",
       "Outerwear  Heros Tunic        144\n",
       "\n",
       "[116 rows x 1 columns]"
      ]
     },
     "execution_count": 116,
     "metadata": {},
     "output_type": "execute_result"
    }
   ],
   "source": [
    "Moonbirds_count"
   ]
  },
  {
   "cell_type": "code",
   "execution_count": 117,
   "id": "b75ff0ad",
   "metadata": {},
   "outputs": [],
   "source": [
    "Moonbirds_unique = Moonbirds.drop_duplicates(subset='token_id', keep='first')"
   ]
  },
  {
   "cell_type": "code",
   "execution_count": 118,
   "id": "2fdb74c1",
   "metadata": {},
   "outputs": [],
   "source": [
    "Moonbirds_unique_Background_count = Moonbirds_unique[\"Background\"].value_counts()\n",
    "Moonbirds_unique_Beak_count = Moonbirds_unique[\"Beak\"].value_counts()\n",
    "Moonbirds_unique_Body_count = Moonbirds_unique[\"Body\"].value_counts()\n",
    "Moonbirds_unique_Eyes_count = Moonbirds_unique['Eyes'].value_counts()\n",
    "Moonbirds_unique_Eyewear_count = Moonbirds_unique['Eyewear'].value_counts()\n",
    "Moonbirds_unique_Feathers_count = Moonbirds_unique[\"Feathers\"].value_counts()\n",
    "Moonbirds_unique_Headwear_count = Moonbirds_unique[\"Headwear\"].value_counts()\n",
    "Moonbirds_unique_Outerwear_count = Moonbirds_unique['Outerwear'].value_counts()\n",
    "\n",
    "Moonbirds_unique_Background_count.index = 'Background ' + Moonbirds_unique_Background_count.index\n",
    "Moonbirds_unique_Beak_count.index = 'Beak ' + Moonbirds_unique_Beak_count.index\n",
    "Moonbirds_unique_Body_count.index = 'Body ' + Moonbirds_unique_Body_count.index\n",
    "Moonbirds_unique_Eyes_count.index = 'Eyes ' + Moonbirds_unique_Eyes_count.index\n",
    "Moonbirds_unique_Eyewear_count.index = 'Eyewear ' + Moonbirds_unique_Eyewear_count.index\n",
    "Moonbirds_unique_Feathers_count.index = 'Feathers ' + Moonbirds_unique_Feathers_count.index\n",
    "Moonbirds_unique_Headwear_count.index = 'Headwear ' + Moonbirds_unique_Headwear_count.index\n",
    "Moonbirds_unique_Outerwear_count.index = 'Outerwear ' + Moonbirds_unique_Outerwear_count.index"
   ]
  },
  {
   "cell_type": "code",
   "execution_count": 119,
   "id": "e7e4fe6b",
   "metadata": {},
   "outputs": [],
   "source": [
    "Moonbirds_unique_count = pd.concat([Moonbirds_unique_Background_count,\n",
    "Moonbirds_unique_Beak_count,\n",
    "Moonbirds_unique_Body_count,\n",
    "Moonbirds_unique_Eyes_count,\n",
    "Moonbirds_unique_Eyewear_count,\n",
    "Moonbirds_unique_Feathers_count,\n",
    "Moonbirds_unique_Headwear_count,\n",
    "Moonbirds_unique_Outerwear_count], axis=0).to_frame()"
   ]
  },
  {
   "cell_type": "code",
   "execution_count": 120,
   "id": "871100b2",
   "metadata": {},
   "outputs": [
    {
     "data": {
      "text/html": [
       "<div>\n",
       "<style scoped>\n",
       "    .dataframe tbody tr th:only-of-type {\n",
       "        vertical-align: middle;\n",
       "    }\n",
       "\n",
       "    .dataframe tbody tr th {\n",
       "        vertical-align: top;\n",
       "    }\n",
       "\n",
       "    .dataframe thead th {\n",
       "        text-align: right;\n",
       "    }\n",
       "</style>\n",
       "<table border=\"1\" class=\"dataframe\">\n",
       "  <thead>\n",
       "    <tr style=\"text-align: right;\">\n",
       "      <th></th>\n",
       "      <th>0</th>\n",
       "    </tr>\n",
       "  </thead>\n",
       "  <tbody>\n",
       "    <tr>\n",
       "      <th>Background  Green</th>\n",
       "      <td>1168</td>\n",
       "    </tr>\n",
       "    <tr>\n",
       "      <th>Background  Yellow</th>\n",
       "      <td>1138</td>\n",
       "    </tr>\n",
       "    <tr>\n",
       "      <th>Background  Purple</th>\n",
       "      <td>1117</td>\n",
       "    </tr>\n",
       "    <tr>\n",
       "      <th>Background  Gray</th>\n",
       "      <td>1089</td>\n",
       "    </tr>\n",
       "    <tr>\n",
       "      <th>Background  Blue</th>\n",
       "      <td>1082</td>\n",
       "    </tr>\n",
       "    <tr>\n",
       "      <th>...</th>\n",
       "      <td>...</td>\n",
       "    </tr>\n",
       "    <tr>\n",
       "      <th>Outerwear  Gold Chain</th>\n",
       "      <td>159</td>\n",
       "    </tr>\n",
       "    <tr>\n",
       "      <th>Outerwear  Jean Jacket</th>\n",
       "      <td>128</td>\n",
       "    </tr>\n",
       "    <tr>\n",
       "      <th>Outerwear  Diamond Necklace</th>\n",
       "      <td>119</td>\n",
       "    </tr>\n",
       "    <tr>\n",
       "      <th>Outerwear  Heros Tunic</th>\n",
       "      <td>78</td>\n",
       "    </tr>\n",
       "    <tr>\n",
       "      <th>Outerwear  Bomber Jacket</th>\n",
       "      <td>75</td>\n",
       "    </tr>\n",
       "  </tbody>\n",
       "</table>\n",
       "<p>116 rows × 1 columns</p>\n",
       "</div>"
      ],
      "text/plain": [
       "                                0\n",
       "Background  Green            1168\n",
       "Background  Yellow           1138\n",
       "Background  Purple           1117\n",
       "Background  Gray             1089\n",
       "Background  Blue             1082\n",
       "...                           ...\n",
       "Outerwear  Gold Chain         159\n",
       "Outerwear  Jean Jacket        128\n",
       "Outerwear  Diamond Necklace   119\n",
       "Outerwear  Heros Tunic         78\n",
       "Outerwear  Bomber Jacket       75\n",
       "\n",
       "[116 rows x 1 columns]"
      ]
     },
     "execution_count": 120,
     "metadata": {},
     "output_type": "execute_result"
    }
   ],
   "source": [
    "Moonbirds_unique_count"
   ]
  },
  {
   "cell_type": "code",
   "execution_count": 121,
   "id": "f6be4abf",
   "metadata": {},
   "outputs": [],
   "source": [
    "Otherdeed = pd.read_csv(\"Otherdeed_3.csv\", low_memory=False)"
   ]
  },
  {
   "cell_type": "code",
   "execution_count": 122,
   "id": "4520ffd4",
   "metadata": {},
   "outputs": [],
   "source": [
    "Otherdeed_traits =  Otherdeed[['Artifact',\n",
    " 'Category',\n",
    " 'Eastern Resource',\n",
    " 'Eastern Resource Tier',\n",
    " 'Environment',\n",
    " 'Environment Tier',\n",
    " 'Northern Resource',\n",
    " 'Northern Resource Tier',\n",
    " 'Obelisk Piece',\n",
    " 'Plot',\n",
    " 'Sediment',\n",
    " 'Sediment Tier',\n",
    " 'Southern Resource',\n",
    " 'Southern Resource Tier',\n",
    " 'Western Resource',\n",
    " 'Western Resource Tier',\n",
    " 'Koda',\n",
    " 'Plot.1']]"
   ]
  },
  {
   "cell_type": "code",
   "execution_count": 123,
   "id": "99f68e67",
   "metadata": {},
   "outputs": [],
   "source": [
    "Otherdeed_Artifact = Otherdeed[['Artifact']]\n",
    "Otherdeed_Category = Otherdeed[['Category']]\n",
    "Otherdeed_ER = Otherdeed[['Eastern Resource']]\n",
    "Otherdeed_ERT = Otherdeed[['Eastern Resource Tier']]\n",
    "Otherdeed_Environment = Otherdeed[['Environment']]\n",
    "Otherdeed_ET = Otherdeed[['Environment Tier']]\n",
    "Otherdeed_NR = Otherdeed[['Northern Resource']]\n",
    "Otherdeed_NRT = Otherdeed[['Northern Resource Tier']]\n",
    "Otherdeed_OP = Otherdeed[['Obelisk Piece']]\n",
    "Otherdeed_Plot = Otherdeed[['Plot']]\n",
    "Otherdeed_Sediment = Otherdeed[['Sediment']]\n",
    "Otherdeed_ST = Otherdeed[['Sediment Tier']]\n",
    "Otherdeed_SR = Otherdeed[['Southern Resource']]\n",
    "Otherdeed_SRT = Otherdeed[['Southern Resource Tier']]\n",
    "Otherdeed_WR = Otherdeed[['Western Resource']]\n",
    "Otherdeed_WRT = Otherdeed[['Western Resource Tier']]\n",
    "Otherdeed_Koda = Otherdeed[['Koda']]\n",
    "Otherdeed_Plot1 = Otherdeed[['Plot.1']]"
   ]
  },
  {
   "cell_type": "code",
   "execution_count": 124,
   "id": "af07c5d2",
   "metadata": {},
   "outputs": [],
   "source": [
    "Otherdeed_Artifact_count = Otherdeed_Artifact['Artifact'].value_counts()\n",
    "Otherdeed_Category_count = Otherdeed_Category['Category'].value_counts()\n",
    "Otherdeed_ER_count = Otherdeed_ER['Eastern Resource'].value_counts()\n",
    "Otherdeed_ERT_count = Otherdeed_ERT['Eastern Resource Tier'].value_counts()\n",
    "Otherdeed_Environment_count = Otherdeed_Environment['Environment'].value_counts()\n",
    "Otherdeed_ET_count = Otherdeed_ET['Environment Tier'].value_counts()\n",
    "Otherdeed_NR_count = Otherdeed_NR['Northern Resource'].value_counts()\n",
    "Otherdeed_NRT_count = Otherdeed_NRT['Northern Resource Tier'].value_counts()\n",
    "Otherdeed_OP_count = Otherdeed_OP['Obelisk Piece'].value_counts()\n",
    "Otherdeed_Plot_count = Otherdeed_Plot['Plot'].value_counts()\n",
    "Otherdeed_Sediment_count = Otherdeed_Sediment['Sediment'].value_counts()\n",
    "Otherdeed_ST_count = Otherdeed_ST['Sediment Tier'].value_counts()\n",
    "Otherdeed_SR_count = Otherdeed_SR['Southern Resource'].value_counts()\n",
    "Otherdeed_SRT_count = Otherdeed_SRT['Southern Resource Tier'].value_counts()\n",
    "Otherdeed_WR_count = Otherdeed_WR['Western Resource'].value_counts()\n",
    "Otherdeed_WRT_count = Otherdeed_WRT['Western Resource Tier'].value_counts()\n",
    "Otherdeed_Koda_count = Otherdeed_Koda['Koda'].value_counts()\n",
    "Otherdeed_Plot1_count = Otherdeed_Plot1['Plot.1'].value_counts()\n",
    "\n",
    "Otherdeed_Artifact_count.index = 'Artifact ' + Otherdeed_Artifact_count.index.astype(str)\n",
    "Otherdeed_Category_count.index = 'Category ' + Otherdeed_Category_count.index.astype(str)\n",
    "Otherdeed_ER_count.index = 'Eastern Resource ' + Otherdeed_ER_count.index.astype(str)\n",
    "Otherdeed_ERT_count.index = 'Eastern Resource Tier ' + Otherdeed_ERT_count.index.astype(str)\n",
    "Otherdeed_Environment_count.index = 'Environment ' + Otherdeed_Environment_count.index.astype(str)\n",
    "Otherdeed_ET_count.index = 'Environment Tier ' + Otherdeed_ET_count.index.astype(str)\n",
    "Otherdeed_NR_count.index = 'Northern Resource ' + Otherdeed_NR_count.index.astype(str)\n",
    "Otherdeed_NRT_count.index = 'Northern Resource Tier ' + Otherdeed_NRT_count.index.astype(str)\n",
    "Otherdeed_OP_count.index = 'Obelisk Piece ' + Otherdeed_OP_count.index.astype(str)\n",
    "Otherdeed_Plot_count.index = 'Plot ' + Otherdeed_Plot_count.index.astype(str)\n",
    "Otherdeed_Sediment_count.index = 'Sediment ' + Otherdeed_Sediment_count.index.astype(str)\n",
    "Otherdeed_ST_count.index = 'Sediment Tier ' + Otherdeed_ST_count.index.astype(str)\n",
    "Otherdeed_SR_count.index = 'Southern Resource ' + Otherdeed_SR_count.index.astype(str)\n",
    "Otherdeed_SRT_count.index = 'Southern Resource Tier ' + Otherdeed_SRT_count.index.astype(str)\n",
    "Otherdeed_WR_count.index = 'Western Resource ' + Otherdeed_WR_count.index.astype(str)\n",
    "Otherdeed_WRT_count.index = 'Western Resource Tier ' + Otherdeed_WRT_count.index.astype(str)\n",
    "Otherdeed_Koda_count.index = 'Koda' + Otherdeed_Koda_count.index.astype(str)\n",
    "Otherdeed_Plot1_count.index = 'Plot.1' + Otherdeed_Plot1_count.index.astype(str)"
   ]
  },
  {
   "cell_type": "code",
   "execution_count": 125,
   "id": "ce95c5f9",
   "metadata": {},
   "outputs": [],
   "source": [
    "Otherdeed_count = pd.concat([Otherdeed_Artifact_count,\n",
    "Otherdeed_Category_count,\n",
    "Otherdeed_ER_count,\n",
    "Otherdeed_ERT_count,\n",
    "Otherdeed_Environment_count,\n",
    "Otherdeed_ET_count,\n",
    "Otherdeed_NR_count,\n",
    "Otherdeed_NRT_count,\n",
    "Otherdeed_OP_count,\n",
    "Otherdeed_Sediment_count,\n",
    "Otherdeed_ST_count,\n",
    "Otherdeed_SR_count,\n",
    "Otherdeed_SRT_count,\n",
    "Otherdeed_WR_count,\n",
    "Otherdeed_WRT_count], axis=0).to_frame()"
   ]
  },
  {
   "cell_type": "code",
   "execution_count": 126,
   "id": "b091b015",
   "metadata": {},
   "outputs": [
    {
     "data": {
      "text/html": [
       "<div>\n",
       "<style scoped>\n",
       "    .dataframe tbody tr th:only-of-type {\n",
       "        vertical-align: middle;\n",
       "    }\n",
       "\n",
       "    .dataframe tbody tr th {\n",
       "        vertical-align: top;\n",
       "    }\n",
       "\n",
       "    .dataframe thead th {\n",
       "        text-align: right;\n",
       "    }\n",
       "</style>\n",
       "<table border=\"1\" class=\"dataframe\">\n",
       "  <thead>\n",
       "    <tr style=\"text-align: right;\">\n",
       "      <th></th>\n",
       "      <th>0</th>\n",
       "    </tr>\n",
       "  </thead>\n",
       "  <tbody>\n",
       "    <tr>\n",
       "      <th>Artifact  Banana Peel</th>\n",
       "      <td>869</td>\n",
       "    </tr>\n",
       "    <tr>\n",
       "      <th>Artifact  Ancient Coin</th>\n",
       "      <td>793</td>\n",
       "    </tr>\n",
       "    <tr>\n",
       "      <th>Artifact  Rugged Axe</th>\n",
       "      <td>782</td>\n",
       "    </tr>\n",
       "    <tr>\n",
       "      <th>Artifact  Rugged Pickaxe</th>\n",
       "      <td>764</td>\n",
       "    </tr>\n",
       "    <tr>\n",
       "      <th>Artifact  Rugged Shovel</th>\n",
       "      <td>743</td>\n",
       "    </tr>\n",
       "    <tr>\n",
       "      <th>...</th>\n",
       "      <td>...</td>\n",
       "    </tr>\n",
       "    <tr>\n",
       "      <th>Western Resource  Lapidite</th>\n",
       "      <td>30</td>\n",
       "    </tr>\n",
       "    <tr>\n",
       "      <th>Western Resource  Dimensional</th>\n",
       "      <td>25</td>\n",
       "    </tr>\n",
       "    <tr>\n",
       "      <th>Western Resource Tier 1.0</th>\n",
       "      <td>33185</td>\n",
       "    </tr>\n",
       "    <tr>\n",
       "      <th>Western Resource Tier 2.0</th>\n",
       "      <td>17079</td>\n",
       "    </tr>\n",
       "    <tr>\n",
       "      <th>Western Resource Tier 3.0</th>\n",
       "      <td>8881</td>\n",
       "    </tr>\n",
       "  </tbody>\n",
       "</table>\n",
       "<p>428 rows × 1 columns</p>\n",
       "</div>"
      ],
      "text/plain": [
       "                                   0\n",
       "Artifact  Banana Peel            869\n",
       "Artifact  Ancient Coin           793\n",
       "Artifact  Rugged Axe             782\n",
       "Artifact  Rugged Pickaxe         764\n",
       "Artifact  Rugged Shovel          743\n",
       "...                              ...\n",
       "Western Resource  Lapidite        30\n",
       "Western Resource  Dimensional     25\n",
       "Western Resource Tier 1.0      33185\n",
       "Western Resource Tier 2.0      17079\n",
       "Western Resource Tier 3.0       8881\n",
       "\n",
       "[428 rows x 1 columns]"
      ]
     },
     "execution_count": 126,
     "metadata": {},
     "output_type": "execute_result"
    }
   ],
   "source": [
    "Otherdeed_count  "
   ]
  },
  {
   "cell_type": "code",
   "execution_count": 127,
   "id": "515be235",
   "metadata": {},
   "outputs": [],
   "source": [
    "Otherdeed_unique = Otherdeed.drop_duplicates(subset='token_id', keep='first')"
   ]
  },
  {
   "cell_type": "code",
   "execution_count": 128,
   "id": "d354d350",
   "metadata": {},
   "outputs": [],
   "source": [
    "Otherdeed_unique_Artifact_count = Otherdeed_unique['Artifact'].value_counts()\n",
    "Otherdeed_unique_Category_count = Otherdeed_unique['Category'].value_counts()\n",
    "Otherdeed_unique_ER_count = Otherdeed_unique['Eastern Resource'].value_counts()\n",
    "Otherdeed_unique_ERT_count = Otherdeed_unique['Eastern Resource Tier'].value_counts()\n",
    "Otherdeed_unique_Environment_count = Otherdeed_unique['Environment'].value_counts()\n",
    "Otherdeed_unique_ET_count = Otherdeed_unique['Environment Tier'].value_counts()\n",
    "Otherdeed_unique_NR_count = Otherdeed_unique['Northern Resource'].value_counts()\n",
    "Otherdeed_unique_NRT_count = Otherdeed_unique['Northern Resource Tier'].value_counts()\n",
    "Otherdeed_unique_OP_count = Otherdeed_unique['Obelisk Piece'].value_counts()\n",
    "Otherdeed_unique_Plot_count = Otherdeed_unique['Plot'].value_counts()\n",
    "Otherdeed_unique_Sediment_count = Otherdeed_unique['Sediment'].value_counts()\n",
    "Otherdeed_unique_ST_count = Otherdeed_unique['Sediment Tier'].value_counts()\n",
    "Otherdeed_unique_SR_count = Otherdeed_unique['Southern Resource'].value_counts()\n",
    "Otherdeed_unique_SRT_count = Otherdeed_unique['Southern Resource Tier'].value_counts()\n",
    "Otherdeed_unique_WR_count = Otherdeed_unique['Western Resource'].value_counts()\n",
    "Otherdeed_unique_WRT_count = Otherdeed_unique['Western Resource Tier'].value_counts()\n",
    "Otherdeed_unique_Koda_count = Otherdeed_unique['Koda'].value_counts()\n",
    "Otherdeed_unique_Plot1_count = Otherdeed_unique['Plot.1'].value_counts()\n",
    "\n",
    "Otherdeed_unique_Artifact_count.index = 'Artifact ' + Otherdeed_unique_Artifact_count.index.astype(str)\n",
    "Otherdeed_unique_Category_count.index = 'Category ' + Otherdeed_unique_Category_count.index.astype(str)\n",
    "Otherdeed_unique_ER_count.index = 'Eastern Resource ' + Otherdeed_unique_ER_count.index.astype(str)\n",
    "Otherdeed_unique_ERT_count.index = 'Eastern Resource Tier ' + Otherdeed_unique_ERT_count.index.astype(str)\n",
    "Otherdeed_unique_Environment_count.index = 'Environment ' + Otherdeed_unique_Environment_count.index.astype(str)\n",
    "Otherdeed_unique_ET_count.index = 'Environment Tier ' + Otherdeed_unique_ET_count.index.astype(str)\n",
    "Otherdeed_unique_NR_count.index = 'Northern Resource ' + Otherdeed_unique_NR_count.index.astype(str)\n",
    "Otherdeed_unique_NRT_count.index = 'Northern Resource Tier ' + Otherdeed_unique_NRT_count.index.astype(str)\n",
    "Otherdeed_unique_OP_count.index = 'Obelisk Piece ' + Otherdeed_unique_OP_count.index.astype(str)\n",
    "Otherdeed_unique_Plot_count.index = 'Plot ' + Otherdeed_unique_Plot_count.index.astype(str)\n",
    "Otherdeed_unique_Sediment_count.index = 'Sediment ' + Otherdeed_unique_Sediment_count.index.astype(str)\n",
    "Otherdeed_unique_ST_count.index = 'Sediment Tier ' + Otherdeed_unique_ST_count.index.astype(str)\n",
    "Otherdeed_unique_SR_count.index = 'Southern Resource ' + Otherdeed_unique_SR_count.index.astype(str)\n",
    "Otherdeed_unique_SRT_count.index = 'Southern Resource Tier ' + Otherdeed_unique_SRT_count.index.astype(str)\n",
    "Otherdeed_unique_WR_count.index = 'Western Resource ' + Otherdeed_unique_WR_count.index.astype(str)\n",
    "Otherdeed_unique_WRT_count.index = 'Western Resource Tier ' + Otherdeed_unique_WRT_count.index.astype(str)\n",
    "Otherdeed_unique_Koda_count.index = 'Koda' + Otherdeed_unique_Koda_count.index.astype(str)\n",
    "Otherdeed_unique_Plot1_count.index = 'Plot.1' + Otherdeed_unique_Plot1_count.index.astype(str)"
   ]
  },
  {
   "cell_type": "code",
   "execution_count": 129,
   "id": "1eecc379",
   "metadata": {},
   "outputs": [],
   "source": [
    "Otherdeed_unique_count = pd.concat([Otherdeed_unique_Artifact_count,\n",
    "Otherdeed_unique_Category_count,\n",
    "Otherdeed_unique_ER_count,\n",
    "Otherdeed_unique_ERT_count,\n",
    "Otherdeed_unique_Environment_count,\n",
    "Otherdeed_unique_ET_count,\n",
    "Otherdeed_unique_NR_count,\n",
    "Otherdeed_unique_NRT_count,\n",
    "Otherdeed_unique_OP_count,\n",
    "Otherdeed_unique_Sediment_count,\n",
    "Otherdeed_unique_ST_count,\n",
    "Otherdeed_unique_SR_count,\n",
    "Otherdeed_unique_SRT_count,\n",
    "Otherdeed_unique_WR_count,\n",
    "Otherdeed_unique_WRT_count], axis=0).to_frame()"
   ]
  },
  {
   "cell_type": "code",
   "execution_count": 130,
   "id": "603f9549",
   "metadata": {},
   "outputs": [
    {
     "data": {
      "text/html": [
       "<div>\n",
       "<style scoped>\n",
       "    .dataframe tbody tr th:only-of-type {\n",
       "        vertical-align: middle;\n",
       "    }\n",
       "\n",
       "    .dataframe tbody tr th {\n",
       "        vertical-align: top;\n",
       "    }\n",
       "\n",
       "    .dataframe thead th {\n",
       "        text-align: right;\n",
       "    }\n",
       "</style>\n",
       "<table border=\"1\" class=\"dataframe\">\n",
       "  <thead>\n",
       "    <tr style=\"text-align: right;\">\n",
       "      <th></th>\n",
       "      <th>0</th>\n",
       "    </tr>\n",
       "  </thead>\n",
       "  <tbody>\n",
       "    <tr>\n",
       "      <th>Artifact  Rugged Axe</th>\n",
       "      <td>398</td>\n",
       "    </tr>\n",
       "    <tr>\n",
       "      <th>Artifact  Banana Peel</th>\n",
       "      <td>394</td>\n",
       "    </tr>\n",
       "    <tr>\n",
       "      <th>Artifact  Ancient Coin</th>\n",
       "      <td>390</td>\n",
       "    </tr>\n",
       "    <tr>\n",
       "      <th>Artifact  Rugged Pickaxe</th>\n",
       "      <td>374</td>\n",
       "    </tr>\n",
       "    <tr>\n",
       "      <th>Artifact  Rugged Shovel</th>\n",
       "      <td>370</td>\n",
       "    </tr>\n",
       "    <tr>\n",
       "      <th>...</th>\n",
       "      <td>...</td>\n",
       "    </tr>\n",
       "    <tr>\n",
       "      <th>Western Resource  Lapidite</th>\n",
       "      <td>17</td>\n",
       "    </tr>\n",
       "    <tr>\n",
       "      <th>Western Resource  Dimensional</th>\n",
       "      <td>16</td>\n",
       "    </tr>\n",
       "    <tr>\n",
       "      <th>Western Resource Tier 1.0</th>\n",
       "      <td>10217</td>\n",
       "    </tr>\n",
       "    <tr>\n",
       "      <th>Western Resource Tier 2.0</th>\n",
       "      <td>5873</td>\n",
       "    </tr>\n",
       "    <tr>\n",
       "      <th>Western Resource Tier 3.0</th>\n",
       "      <td>3350</td>\n",
       "    </tr>\n",
       "  </tbody>\n",
       "</table>\n",
       "<p>428 rows × 1 columns</p>\n",
       "</div>"
      ],
      "text/plain": [
       "                                   0\n",
       "Artifact  Rugged Axe             398\n",
       "Artifact  Banana Peel            394\n",
       "Artifact  Ancient Coin           390\n",
       "Artifact  Rugged Pickaxe         374\n",
       "Artifact  Rugged Shovel          370\n",
       "...                              ...\n",
       "Western Resource  Lapidite        17\n",
       "Western Resource  Dimensional     16\n",
       "Western Resource Tier 1.0      10217\n",
       "Western Resource Tier 2.0       5873\n",
       "Western Resource Tier 3.0       3350\n",
       "\n",
       "[428 rows x 1 columns]"
      ]
     },
     "execution_count": 130,
     "metadata": {},
     "output_type": "execute_result"
    }
   ],
   "source": [
    "Otherdeed_unique_count"
   ]
  },
  {
   "cell_type": "code",
   "execution_count": null,
   "id": "38d3fe50",
   "metadata": {},
   "outputs": [],
   "source": []
  },
  {
   "cell_type": "code",
   "execution_count": 131,
   "id": "414c87af",
   "metadata": {},
   "outputs": [],
   "source": [
    "Azuki_count_2 = Azuki_count.sort_index()\n",
    "Azuki_unique_count_2 = Azuki_count.sort_index()\n",
    "\n",
    "BAYC_count_2 = Azuki_count.sort_index()\n",
    "BAYC_unique_count_2 = Azuki_count.sort_index()\n",
    "\n",
    "MAYC_count_2 = Azuki_count.sort_index()\n",
    "MAYC_unique_count_2 = Azuki_count.sort_index()\n",
    "\n",
    "Moonbirds_count_2 = Azuki_count.sort_index()\n",
    "Moonbirds_unique_count_2 = Azuki_count.sort_index()\n",
    "\n",
    "Otherdeed_count_2 = Azuki_count.sort_index()\n",
    "Otherdeed_unique_count_2 = Azuki_count.sort_index()"
   ]
  },
  {
   "cell_type": "code",
   "execution_count": 132,
   "id": "f1932126",
   "metadata": {},
   "outputs": [
    {
     "data": {
      "text/plain": [
       "Hair Blue Nightshade Flowy          9.533333\n",
       "Hair Pink Bangs                     8.787234\n",
       "Hair Pink Hairband                  8.724638\n",
       "Clothing Frog Hoodie                8.645833\n",
       "Hair Orange Pixie                   8.618557\n",
       "                                      ...   \n",
       "Offhand Golden Boombox              2.076923\n",
       "Offhand Golden Guitar               2.062500\n",
       "Clothing Golden Sloth Kigurumi      1.750000\n",
       "Offhand Golden Monkey King Staff    1.666667\n",
       "Clothing Golden Cat Kigurumi        1.250000\n",
       "Name: 0, Length: 454, dtype: float64"
      ]
     },
     "execution_count": 132,
     "metadata": {},
     "output_type": "execute_result"
    }
   ],
   "source": [
    "Azuki_liquid_traits = Azuki_count[0].sort_index() / Azuki_unique_count[0].sort_index()\n",
    "Azuki_liquid_traits = Azuki_liquid_traits.sort_values(ascending=False)\n",
    "Azuki_liquid_traits"
   ]
  },
  {
   "cell_type": "code",
   "execution_count": 133,
   "id": "64b551e9",
   "metadata": {},
   "outputs": [
    {
     "data": {
      "text/plain": [
       "Eyes Crazy                    5.366310\n",
       "Hat Girl's Hair Pink          4.831579\n",
       "Clothes Service               4.684211\n",
       "Clothes Blue Dress            4.600000\n",
       "Clothes Guayabera             4.594340\n",
       "                                ...   \n",
       "Clothes Black Suit            2.129032\n",
       "Eyes Blue Beams               2.111111\n",
       "Fur Trippy                    2.083333\n",
       "Fur Solid Gold                1.888889\n",
       "Mouth Bored Unshaven Pizza    1.833333\n",
       "Name: 0, Length: 168, dtype: float64"
      ]
     },
     "execution_count": 133,
     "metadata": {},
     "output_type": "execute_result"
    }
   ],
   "source": [
    "BAYC_liquid_traits = BAYC_count[0].sort_index() / BAYC_unique_count[0].sort_index()\n",
    "BAYC_liquid_traits = BAYC_liquid_traits.sort_values(ascending=False)\n",
    "BAYC_liquid_traits"
   ]
  },
  {
   "cell_type": "code",
   "execution_count": 134,
   "id": "c1250229",
   "metadata": {},
   "outputs": [
    {
     "data": {
      "text/plain": [
       "Clothes M1 Wool Turtleneck     6.552050\n",
       "Clothes M1 Navy Striped Tee    5.905292\n",
       "Hat M1 Safari                  5.896040\n",
       "Fur M1 Cream                   5.779804\n",
       "Clothes M1 Tanktop             5.773946\n",
       "                                 ...   \n",
       "Fur M2 Solid Gold              1.434783\n",
       "Name Mega Demon                1.000000\n",
       "Name Mega Jelly                1.000000\n",
       "Name Mega Radioactive          1.000000\n",
       "Name Mega Swamp                1.000000\n",
       "Name: 0, Length: 340, dtype: float64"
      ]
     },
     "execution_count": 134,
     "metadata": {},
     "output_type": "execute_result"
    }
   ],
   "source": [
    "MAYC_liquid_traits = MAYC_count[0].sort_index() / MAYC_unique_count[0].sort_index()\n",
    "MAYC_liquid_traits = MAYC_liquid_traits.sort_values(ascending=False)\n",
    "MAYC_liquid_traits"
   ]
  },
  {
   "cell_type": "code",
   "execution_count": 135,
   "id": "fca28973",
   "metadata": {},
   "outputs": [
    {
     "data": {
      "text/plain": [
       "Headwear  Durag                 6.367089\n",
       "Headwear  Bandana               5.924242\n",
       "Feathers  Pink                  5.879518\n",
       "Headwear  Headband              5.768362\n",
       "Eyes  Side-eye                  5.621622\n",
       "                                  ...   \n",
       "Feathers  Legendary Guardian    1.500000\n",
       "Feathers  Legendary Emperor     1.500000\n",
       "Feathers  Legendary Brave       1.250000\n",
       "Background  Glitch Red          1.250000\n",
       "Body  Glitch                    1.250000\n",
       "Name: 0, Length: 116, dtype: float64"
      ]
     },
     "execution_count": 135,
     "metadata": {},
     "output_type": "execute_result"
    }
   ],
   "source": [
    "Moonbirds_liquid_traits = Moonbirds_count[0].sort_index() / Moonbirds_unique_count[0].sort_index()\n",
    "Moonbirds_liquid_traits = Moonbirds_liquid_traits.sort_values(ascending=False)\n",
    "Moonbirds_liquid_traits"
   ]
  },
  {
   "cell_type": "code",
   "execution_count": 136,
   "id": "56a2cf7f",
   "metadata": {},
   "outputs": [
    {
     "data": {
      "text/plain": [
       "Environment  Steppes          4.750287\n",
       "Environment Tier 1            4.600539\n",
       "Sediment  Infinite Expanse    4.474639\n",
       "Environment  Ruins            4.441790\n",
       "Environment  Glacia           4.402792\n",
       "                                ...   \n",
       "Artifact  Portal Piece        1.000000\n",
       "Artifact  Mirror Mirror       1.000000\n",
       "Artifact  Mystery Potion      1.000000\n",
       "Artifact  Blade of Eternum    1.000000\n",
       "Artifact  Sword of Chosen     1.000000\n",
       "Name: 0, Length: 428, dtype: float64"
      ]
     },
     "execution_count": 136,
     "metadata": {},
     "output_type": "execute_result"
    }
   ],
   "source": [
    "Otherdeed_liquid_traits = Otherdeed_count[0].sort_index() / Otherdeed_unique_count[0].sort_index()\n",
    "Otherdeed_liquid_traits = Otherdeed_liquid_traits.sort_values(ascending=False)\n",
    "Otherdeed_liquid_traits"
   ]
  },
  {
   "cell_type": "code",
   "execution_count": 137,
   "id": "517efb67",
   "metadata": {},
   "outputs": [
    {
     "data": {
      "text/plain": [
       "454"
      ]
     },
     "execution_count": 137,
     "metadata": {},
     "output_type": "execute_result"
    }
   ],
   "source": [
    "len(Azuki_liquid_traits.index.unique())"
   ]
  },
  {
   "cell_type": "code",
   "execution_count": 138,
   "id": "9e4b1de6",
   "metadata": {},
   "outputs": [
    {
     "data": {
      "text/plain": [
       "168"
      ]
     },
     "execution_count": 138,
     "metadata": {},
     "output_type": "execute_result"
    }
   ],
   "source": [
    "len(BAYC_liquid_traits.index.unique())"
   ]
  },
  {
   "cell_type": "code",
   "execution_count": 139,
   "id": "8daf85a5",
   "metadata": {},
   "outputs": [
    {
     "data": {
      "text/plain": [
       "340"
      ]
     },
     "execution_count": 139,
     "metadata": {},
     "output_type": "execute_result"
    }
   ],
   "source": [
    "len(MAYC_liquid_traits.index.unique())"
   ]
  },
  {
   "cell_type": "code",
   "execution_count": 140,
   "id": "79c292d1",
   "metadata": {},
   "outputs": [
    {
     "data": {
      "text/plain": [
       "116"
      ]
     },
     "execution_count": 140,
     "metadata": {},
     "output_type": "execute_result"
    }
   ],
   "source": [
    "len(Moonbirds_liquid_traits.index.unique())"
   ]
  },
  {
   "cell_type": "code",
   "execution_count": 141,
   "id": "1cb13e68",
   "metadata": {},
   "outputs": [
    {
     "data": {
      "text/plain": [
       "428"
      ]
     },
     "execution_count": 141,
     "metadata": {},
     "output_type": "execute_result"
    }
   ],
   "source": [
    "len(Otherdeed_liquid_traits.index.unique())"
   ]
  },
  {
   "cell_type": "code",
   "execution_count": 142,
   "id": "4dcb7411",
   "metadata": {},
   "outputs": [],
   "source": [
    "import matplotlib.pyplot as plt"
   ]
  },
  {
   "cell_type": "code",
   "execution_count": 143,
   "id": "f68cb68a",
   "metadata": {},
   "outputs": [
    {
     "data": {
      "image/png": "[encoded data removed]",
      "text/plain": [
       "<Figure size 1080x720 with 1 Axes>"
      ]
     },
     "metadata": {
      "needs_background": "light"
     },
     "output_type": "display_data"
    }
   ],
   "source": [
    "ax = Azuki_liquid_traits[:10].plot(kind='bar', title='Most liquid traits (Azuki)', figsize=(15,10), ylabel=\"Average number of sales per NFT with this trait\", color='C3')\n",
    "\n",
    "for i in ax.containers:\n",
    "    ax.bar_label(i)\n",
    "\n",
    "plt.show()"
   ]
  },
  {
   "cell_type": "code",
   "execution_count": 144,
   "id": "b6f8ff95",
   "metadata": {},
   "outputs": [
    {
     "data": {
      "image/png": "[encoded data removed]",
      "text/plain": [
       "<Figure size 1080x720 with 1 Axes>"
      ]
     },
     "metadata": {
      "needs_background": "light"
     },
     "output_type": "display_data"
    }
   ],
   "source": [
    "ax = BAYC_liquid_traits[:10].plot(kind='bar', title='Most liquid traits (BAYC)', figsize=(15,10), ylabel=\"Average number of sales per NFT with this trait\", color='C0')\n",
    "\n",
    "for i in ax.containers:\n",
    "    ax.bar_label(i)\n",
    "\n",
    "plt.show()"
   ]
  },
  {
   "cell_type": "code",
   "execution_count": 145,
   "id": "ceffeb0e",
   "metadata": {},
   "outputs": [
    {
     "data": {
      "image/png": "[encoded data removed]",
      "text/plain": [
       "<Figure size 1080x720 with 1 Axes>"
      ]
     },
     "metadata": {
      "needs_background": "light"
     },
     "output_type": "display_data"
    }
   ],
   "source": [
    "ax = MAYC_liquid_traits[:10].plot(kind='bar', title='Most liquid traits (MAYC)', figsize=(15,10), ylabel=\"Average number of sales per NFT with this trait\", color='C2')\n",
    "\n",
    "for i in ax.containers:\n",
    "    ax.bar_label(i)\n",
    "\n",
    "plt.show()"
   ]
  },
  {
   "cell_type": "code",
   "execution_count": 146,
   "id": "03ceb023",
   "metadata": {},
   "outputs": [
    {
     "data": {
      "image/png": "[encoded data removed]",
      "text/plain": [
       "<Figure size 1080x720 with 1 Axes>"
      ]
     },
     "metadata": {
      "needs_background": "light"
     },
     "output_type": "display_data"
    }
   ],
   "source": [
    "ax = Moonbirds_liquid_traits[:10].plot(kind='bar', title='Most liquid traits (Moonbirds)', figsize=(15,10), ylabel=\"Average number of sales per NFT with this trait\", color='C4')\n",
    "\n",
    "for i in ax.containers:\n",
    "    ax.bar_label(i)\n",
    "\n",
    "plt.show()"
   ]
  },
  {
   "cell_type": "code",
   "execution_count": 147,
   "id": "1d8b1465",
   "metadata": {},
   "outputs": [
    {
     "data": {
      "image/png": "[encoded data removed]",
      "text/plain": [
       "<Figure size 1080x720 with 1 Axes>"
      ]
     },
     "metadata": {
      "needs_background": "light"
     },
     "output_type": "display_data"
    }
   ],
   "source": [
    "ax = Otherdeed_liquid_traits[:10].plot(kind='bar', title='Most liquid traits (Otherdeed)', figsize=(15,10), ylabel=\"Average number of sales per NFT with this trait\", color='C5')\n",
    "\n",
    "for i in ax.containers:\n",
    "    ax.bar_label(i)\n",
    "\n",
    "plt.show()"
   ]
  },
  {
   "cell_type": "code",
   "execution_count": 148,
   "id": "6615f445",
   "metadata": {},
   "outputs": [
    {
     "data": {
      "text/html": [
       "<div>\n",
       "<style scoped>\n",
       "    .dataframe tbody tr th:only-of-type {\n",
       "        vertical-align: middle;\n",
       "    }\n",
       "\n",
       "    .dataframe tbody tr th {\n",
       "        vertical-align: top;\n",
       "    }\n",
       "\n",
       "    .dataframe thead th {\n",
       "        text-align: right;\n",
       "    }\n",
       "</style>\n",
       "<table border=\"1\" class=\"dataframe\">\n",
       "  <thead>\n",
       "    <tr style=\"text-align: right;\">\n",
       "      <th></th>\n",
       "      <th>0</th>\n",
       "    </tr>\n",
       "  </thead>\n",
       "  <tbody>\n",
       "    <tr>\n",
       "      <th>Mouth Bored Unshaven Pizza</th>\n",
       "      <td>18</td>\n",
       "    </tr>\n",
       "    <tr>\n",
       "      <th>Mouth Bored Unshaven Dagger</th>\n",
       "      <td>18</td>\n",
       "    </tr>\n",
       "    <tr>\n",
       "      <th>Clothes Black Suit</th>\n",
       "      <td>31</td>\n",
       "    </tr>\n",
       "    <tr>\n",
       "      <th>Fur Solid Gold</th>\n",
       "      <td>36</td>\n",
       "    </tr>\n",
       "    <tr>\n",
       "      <th>Eyes Blue Beams</th>\n",
       "      <td>36</td>\n",
       "    </tr>\n",
       "    <tr>\n",
       "      <th>Mouth Bored Pizza</th>\n",
       "      <td>36</td>\n",
       "    </tr>\n",
       "    <tr>\n",
       "      <th>Mouth Bored Unshaven Party horn</th>\n",
       "      <td>36</td>\n",
       "    </tr>\n",
       "    <tr>\n",
       "      <th>Mouth Bored Dagger</th>\n",
       "      <td>42</td>\n",
       "    </tr>\n",
       "    <tr>\n",
       "      <th>Mouth Bored Unshaven Bubblegum</th>\n",
       "      <td>52</td>\n",
       "    </tr>\n",
       "    <tr>\n",
       "      <th>Clothes Admirals Coat</th>\n",
       "      <td>52</td>\n",
       "    </tr>\n",
       "  </tbody>\n",
       "</table>\n",
       "</div>"
      ],
      "text/plain": [
       "                                  0\n",
       "Mouth Bored Unshaven Pizza       18\n",
       "Mouth Bored Unshaven Dagger      18\n",
       "Clothes Black Suit               31\n",
       "Fur Solid Gold                   36\n",
       "Eyes Blue Beams                  36\n",
       "Mouth Bored Pizza                36\n",
       "Mouth Bored Unshaven Party horn  36\n",
       "Mouth Bored Dagger               42\n",
       "Mouth Bored Unshaven Bubblegum   52\n",
       "Clothes Admirals Coat            52"
      ]
     },
     "execution_count": 148,
     "metadata": {},
     "output_type": "execute_result"
    }
   ],
   "source": [
    "BAYC_unique_count.sort_values(0).head(10)"
   ]
  },
  {
   "cell_type": "code",
   "execution_count": 153,
   "id": "b8022955",
   "metadata": {},
   "outputs": [
    {
     "data": {
      "text/html": [
       "<style>.container { width:74% !important; }</style>"
      ],
      "text/plain": [
       "<IPython.core.display.HTML object>"
      ]
     },
     "execution_count": 153,
     "metadata": {},
     "output_type": "execute_result"
    }
   ],
   "source": [
    "from IPython.core.display import HTML\n",
    "HTML(\"<style>.container { width:74% !important; }</style>\")"
   ]
  },
  {
   "cell_type": "code",
   "execution_count": null,
   "id": "a0d677ec",
   "metadata": {},
   "outputs": [],
   "source": [
    "BAYC_unique_count[0].sort_index()\n",
    "BAYC_liquid_traits = BAYC_liquid_traits.sort_values(ascending=False)\n",
    "BAYC_liquid_traits"
   ]
  },
  {
   "cell_type": "code",
   "execution_count": 157,
   "id": "452c4f43",
   "metadata": {},
   "outputs": [
    {
     "data": {
      "text/plain": [
       "Background Aquamarine       3.859180\n",
       "Background Army Green       3.834234\n",
       "Background Blue             3.722881\n",
       "Background Gray             3.771760\n",
       "Background New Punk Blue    3.648165\n",
       "                              ...   \n",
       "Mouth Phoneme Vuh           4.284768\n",
       "Mouth Phoneme Wah           3.646259\n",
       "Mouth Rage                  3.745614\n",
       "Mouth Small Grin            3.669456\n",
       "Mouth Tongue Out            3.609195\n",
       "Name: 0, Length: 168, dtype: float64"
      ]
     },
     "execution_count": 157,
     "metadata": {},
     "output_type": "execute_result"
    }
   ],
   "source": [
    "BAYC_liquid_traits.sort_index()"
   ]
  },
  {
   "cell_type": "code",
   "execution_count": 156,
   "id": "cefd7894",
   "metadata": {},
   "outputs": [
    {
     "data": {
      "text/plain": [
       "Background Aquamarine       1122\n",
       "Background Army Green       1110\n",
       "Background Blue             1097\n",
       "Background Gray             1034\n",
       "Background New Punk Blue    1117\n",
       "                            ... \n",
       "Mouth Phoneme Vuh            302\n",
       "Mouth Phoneme Wah            147\n",
       "Mouth Rage                   228\n",
       "Mouth Small Grin             239\n",
       "Mouth Tongue Out             174\n",
       "Name: 0, Length: 168, dtype: int64"
      ]
     },
     "execution_count": 156,
     "metadata": {},
     "output_type": "execute_result"
    }
   ],
   "source": [
    "BAYC_unique_count[0].sort_index()"
   ]
  },
  {
   "cell_type": "code",
   "execution_count": 185,
   "id": "d54599ba",
   "metadata": {},
   "outputs": [],
   "source": [
    "import seaborn as sns"
   ]
  },
  {
   "cell_type": "code",
   "execution_count": 186,
   "id": "fe223b25",
   "metadata": {},
   "outputs": [
    {
     "data": {
      "text/plain": [
       "Text(0.5, 1.0, 'Heatmap of correlation between the non-rarity and the liquidity of traits (Azuki)')"
      ]
     },
     "execution_count": 186,
     "metadata": {},
     "output_type": "execute_result"
    },
    {
     "data": {
      "image/png": "[encoded data removed]",
      "text/plain": [
       "<Figure size 432x288 with 2 Axes>"
      ]
     },
     "metadata": {
      "needs_background": "light"
     },
     "output_type": "display_data"
    }
   ],
   "source": [
    "Azuki_rarity_liquidity = pd.concat([Azuki_unique_count[0].sort_index(), Azuki_liquid_traits.sort_index()], axis=1)\n",
    "corr_matrix = Azuki_rarity_liquidity.corr()\n",
    "sns.heatmap(corr_matrix, annot=True, cmap='Reds')\n",
    "plt.title('Heatmap of correlation between the non-rarity and the liquidity of traits (Azuki)')"
   ]
  },
  {
   "cell_type": "code",
   "execution_count": 187,
   "id": "e3c5e9a0",
   "metadata": {},
   "outputs": [
    {
     "data": {
      "text/plain": [
       "Text(0.5, 1.0, 'Heatmap of correlation between the non-rarity and the liquidity of traits (BAYC)')"
      ]
     },
     "execution_count": 187,
     "metadata": {},
     "output_type": "execute_result"
    },
    {
     "data": {
      "image/png": "[encoded data removed]",
      "text/plain": [
       "<Figure size 432x288 with 2 Axes>"
      ]
     },
     "metadata": {
      "needs_background": "light"
     },
     "output_type": "display_data"
    }
   ],
   "source": [
    "BAYC_rarity_liquidity = pd.concat([BAYC_unique_count[0].sort_index(), BAYC_liquid_traits.sort_index()], axis=1)\n",
    "corr_matrix = BAYC_rarity_liquidity.corr()\n",
    "sns.heatmap(corr_matrix, annot=True, cmap='Blues')\n",
    "plt.title('Heatmap of correlation between the non-rarity and the liquidity of traits (BAYC)')"
   ]
  },
  {
   "cell_type": "code",
   "execution_count": 188,
   "id": "956d5c13",
   "metadata": {},
   "outputs": [
    {
     "data": {
      "text/plain": [
       "Text(0.5, 1.0, 'Heatmap of correlation between the non-rarity and the liquidity of traits (MAYC)')"
      ]
     },
     "execution_count": 188,
     "metadata": {},
     "output_type": "execute_result"
    },
    {
     "data": {
      "image/png": "[encoded data removed]",
      "text/plain": [
       "<Figure size 432x288 with 2 Axes>"
      ]
     },
     "metadata": {
      "needs_background": "light"
     },
     "output_type": "display_data"
    }
   ],
   "source": [
    "MAYC_rarity_liquidity = pd.concat([MAYC_unique_count[0].sort_index(), MAYC_liquid_traits.sort_index()], axis=1)\n",
    "corr_matrix = MAYC_rarity_liquidity.corr()\n",
    "sns.heatmap(corr_matrix, annot=True, cmap='Greens')\n",
    "plt.title('Heatmap of correlation between the non-rarity and the liquidity of traits (MAYC)')"
   ]
  },
  {
   "cell_type": "code",
   "execution_count": 189,
   "id": "9f1c3afa",
   "metadata": {},
   "outputs": [
    {
     "data": {
      "text/plain": [
       "Text(0.5, 1.0, 'Heatmap of correlation between the non-rarity and the liquidity of traits (Moonbirds)')"
      ]
     },
     "execution_count": 189,
     "metadata": {},
     "output_type": "execute_result"
    },
    {
     "data": {
      "image/png": "[encoded data removed]",
      "text/plain": [
       "<Figure size 432x288 with 2 Axes>"
      ]
     },
     "metadata": {
      "needs_background": "light"
     },
     "output_type": "display_data"
    }
   ],
   "source": [
    "Moonbirds_rarity_liquidity = pd.concat([Moonbirds_unique_count[0].sort_index(), Moonbirds_liquid_traits.sort_index()], axis=1)\n",
    "corr_matrix = Moonbirds_rarity_liquidity.corr()\n",
    "sns.heatmap(corr_matrix, annot=True, cmap='Purples')\n",
    "plt.title('Heatmap of correlation between the non-rarity and the liquidity of traits (Moonbirds)')"
   ]
  },
  {
   "cell_type": "code",
   "execution_count": 190,
   "id": "783657c8",
   "metadata": {
    "scrolled": true
   },
   "outputs": [
    {
     "data": {
      "text/plain": [
       "Text(0.5, 1.0, 'Heatmap of correlation between the non-rarity and the liquidity of traits (Otherdeed)')"
      ]
     },
     "execution_count": 190,
     "metadata": {},
     "output_type": "execute_result"
    },
    {
     "data": {
      "image/png": "[encoded data removed]",
      "text/plain": [
       "<Figure size 432x288 with 2 Axes>"
      ]
     },
     "metadata": {
      "needs_background": "light"
     },
     "output_type": "display_data"
    }
   ],
   "source": [
    "Otherdeed_rarity_liquidity = pd.concat([Otherdeed_unique_count[0].sort_index(), Otherdeed_liquid_traits.sort_index()], axis=1)\n",
    "corr_matrix = MAYC_rarity_liquidity.corr()\n",
    "sns.heatmap(corr_matrix, annot=True, cmap='Oranges')\n",
    "plt.title('Heatmap of correlation between the non-rarity and the liquidity of traits (Otherdeed)')"
   ]
  },
  {
   "cell_type": "code",
   "execution_count": null,
   "id": "d431bac5",
   "metadata": {},
   "outputs": [],
   "source": []
  },
  {
   "cell_type": "code",
   "execution_count": 193,
   "id": "a0d7ceef",
   "metadata": {},
   "outputs": [
    {
     "data": {
      "image/png": "[encoded data removed]",
      "text/plain": [
       "<Figure size 1080x720 with 1 Axes>"
      ]
     },
     "metadata": {
      "needs_background": "light"
     },
     "output_type": "display_data"
    }
   ],
   "source": [
    "BAYC = pd.read_csv(\"BAYC_3.csv\", low_memory=False)\n",
    "\n",
    "BAYC_Background = BAYC[['Background']]\n",
    "BAYC_Clothes = BAYC[['Clothes']]\n",
    "BAYC_Earring = BAYC[['Earring']]\n",
    "BAYC_Eyes = BAYC[['Eyes']]\n",
    "BAYC_Fur = BAYC[['Fur']]\n",
    "BAYC_Hat = BAYC[['Hat']]\n",
    "BAYC_Mouth = BAYC[['Mouth']]\n",
    "\n",
    "BAYC_Background_count = BAYC_Background['Background'].value_counts()\n",
    "BAYC_Clothes_count = BAYC_Clothes['Clothes'].value_counts()\n",
    "BAYC_Earring_count = BAYC_Earring['Earring'].value_counts()\n",
    "BAYC_Eyes_count = BAYC_Eyes['Eyes'].value_counts()\n",
    "BAYC_Fur_count = BAYC_Fur['Fur'].value_counts()\n",
    "BAYC_Hat_count = BAYC_Hat['Hat'].value_counts()\n",
    "BAYC_Mouth_count = BAYC_Mouth['Mouth'].value_counts()\n",
    "\n",
    "BAYC_Background_count.index = 'Background ' + BAYC_Background_count.index \n",
    "BAYC_Clothes_count.index = 'Clothes ' + BAYC_Clothes_count.index\n",
    "BAYC_Earring_count.index = 'Earring ' + BAYC_Earring_count.index\n",
    "BAYC_Eyes_count.index = 'Eyes ' + BAYC_Eyes_count.index\n",
    "BAYC_Fur_count.index = 'Fur ' + BAYC_Fur_count.index\n",
    "BAYC_Hat_count.index = 'Hat ' + BAYC_Hat_count.index\n",
    "BAYC_Mouth_count.index = 'Mouth ' + BAYC_Mouth_count.index\n",
    "\n",
    "BAYC_count = pd.concat([BAYC_Background_count, BAYC_Clothes_count, BAYC_Earring_count, BAYC_Eyes_count, BAYC_Fur_count, BAYC_Hat_count, BAYC_Mouth_count], axis=0).to_frame()\n",
    "\n",
    "BAYC_unique = BAYC.drop_duplicates(subset='token_id', keep='first')\n",
    "\n",
    "BAYC_unique_Background_count = BAYC_unique['Background'].value_counts()\n",
    "BAYC_unique_Clothes_count = BAYC_unique['Clothes'].value_counts()\n",
    "BAYC_unique_Earring_count = BAYC_unique['Earring'].value_counts()\n",
    "BAYC_unique_Eyes_count = BAYC_unique['Eyes'].value_counts()\n",
    "BAYC_unique_Fur_count = BAYC_unique['Fur'].value_counts()\n",
    "BAYC_unique_Hat_count = BAYC_unique['Hat'].value_counts()\n",
    "BAYC_unique_Mouth_count = BAYC_unique['Mouth'].value_counts()\n",
    "\n",
    "BAYC_unique_Background_count.index = 'Background ' + BAYC_unique_Background_count.index \n",
    "BAYC_unique_Clothes_count.index = 'Clothes ' + BAYC_unique_Clothes_count.index\n",
    "BAYC_unique_Earring_count.index = 'Earring ' + BAYC_unique_Earring_count.index\n",
    "BAYC_unique_Eyes_count.index = 'Eyes ' + BAYC_unique_Eyes_count.index\n",
    "BAYC_unique_Fur_count.index = 'Fur ' + BAYC_unique_Fur_count.index\n",
    "BAYC_unique_Hat_count.index = 'Hat ' + BAYC_unique_Hat_count.index\n",
    "BAYC_unique_Mouth_count.index = 'Mouth ' + BAYC_unique_Mouth_count.index\n",
    "\n",
    "BAYC_unique_count = pd.concat([BAYC_unique_Background_count, BAYC_unique_Clothes_count, BAYC_unique_Earring_count, BAYC_unique_Eyes_count, BAYC_unique_Fur_count, BAYC_unique_Hat_count,\n",
    "BAYC_unique_Mouth_count], axis=0).to_frame()\n",
    "\n",
    "BAYC_liquid_traits = BAYC_count[0].sort_index() / BAYC_unique_count[0].sort_index()\n",
    "BAYC_liquid_traits = BAYC_liquid_traits.sort_values(ascending=False)\n",
    "\n",
    "ax = BAYC_liquid_traits[:10].plot(kind='bar', title='Most liquid traits (BAYC)', figsize=(15,10), ylabel=\"Average number of sales per NFT with this trait\", color='C0')\n",
    "\n",
    "for i in ax.containers:\n",
    "    ax.bar_label(i)\n",
    "plt.show()"
   ]
  },
  {
   "cell_type": "code",
   "execution_count": null,
   "id": "4914234d",
   "metadata": {},
   "outputs": [],
   "source": []
  }
 ],
 "metadata": {
  "kernelspec": {
   "display_name": "Python 3 (ipykernel)",
   "language": "python",
   "name": "python3"
  },
  "language_info": {
   "codemirror_mode": {
    "name": "ipython",
    "version": 3
   },
   "file_extension": ".py",
   "mimetype": "text/x-python",
   "name": "python",
   "nbconvert_exporter": "python",
   "pygments_lexer": "ipython3",
   "version": "3.9.12"
  }
 },
 "nbformat": 4,
 "nbformat_minor": 5
}
